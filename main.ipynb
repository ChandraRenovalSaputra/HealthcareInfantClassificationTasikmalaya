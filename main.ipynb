{
 "cells": [
  {
   "cell_type": "code",
   "execution_count": 5,
   "metadata": {
    "executionInfo": {
     "elapsed": 2858,
     "status": "ok",
     "timestamp": 1738130240971,
     "user": {
      "displayName": "CHANDRA RENOVAL SAPUTRA",
      "userId": "03865787093941392451"
     },
     "user_tz": -420
    },
    "id": "tIOgmme2H_z3"
   },
   "outputs": [],
   "source": [
    "import pandas as pd\n",
    "import matplotlib.pyplot as plt\n",
    "import seaborn as sns"
   ]
  },
  {
   "cell_type": "code",
   "execution_count": 6,
   "metadata": {
    "executionInfo": {
     "elapsed": 3918,
     "status": "ok",
     "timestamp": 1738130244876,
     "user": {
      "displayName": "CHANDRA RENOVAL SAPUTRA",
      "userId": "03865787093941392451"
     },
     "user_tz": -420
    },
    "id": "zx2ukSqTItEI"
   },
   "outputs": [],
   "source": [
    "df = pd.read_csv('./dataset/data/raw_data.csv')"
   ]
  },
  {
   "cell_type": "markdown",
   "metadata": {
    "id": "SdgIp58O0eTh"
   },
   "source": [
    "# data persentase pelayanan kesehatan pada bayi di Tasikmalaya"
   ]
  },
  {
   "cell_type": "code",
   "execution_count": 7,
   "metadata": {
    "colab": {
     "base_uri": "https://localhost:8080/",
     "height": 443
    },
    "executionInfo": {
     "elapsed": 444,
     "status": "ok",
     "timestamp": 1738130244879,
     "user": {
      "displayName": "CHANDRA RENOVAL SAPUTRA",
      "userId": "03865787093941392451"
     },
     "user_tz": -420
    },
    "id": "Tz869Z8WMfS_",
    "outputId": "67dc29f9-574b-4151-e17d-af209d62c785"
   },
   "outputs": [
    {
     "data": {
      "text/html": [
       "<div>\n",
       "<style scoped>\n",
       "    .dataframe tbody tr th:only-of-type {\n",
       "        vertical-align: middle;\n",
       "    }\n",
       "\n",
       "    .dataframe tbody tr th {\n",
       "        vertical-align: top;\n",
       "    }\n",
       "\n",
       "    .dataframe thead th {\n",
       "        text-align: right;\n",
       "    }\n",
       "</style>\n",
       "<table border=\"1\" class=\"dataframe\">\n",
       "  <thead>\n",
       "    <tr style=\"text-align: right;\">\n",
       "      <th></th>\n",
       "      <th>id</th>\n",
       "      <th>kode_provinsi</th>\n",
       "      <th>nama_provinsi</th>\n",
       "      <th>kode_kabupaten_kota</th>\n",
       "      <th>nama_kabupaten_kota</th>\n",
       "      <th>kode_kecamatan</th>\n",
       "      <th>nama_kecamatan</th>\n",
       "      <th>puskesmas</th>\n",
       "      <th>jenis_kelamin</th>\n",
       "      <th>persentase_pelayanan</th>\n",
       "      <th>satuan</th>\n",
       "      <th>tahun</th>\n",
       "    </tr>\n",
       "  </thead>\n",
       "  <tbody>\n",
       "    <tr>\n",
       "      <th>0</th>\n",
       "      <td>1</td>\n",
       "      <td>32</td>\n",
       "      <td>JAWA BARAT</td>\n",
       "      <td>3278</td>\n",
       "      <td>KOTA TASIKMALAYA</td>\n",
       "      <td>3278010</td>\n",
       "      <td>KAWALU</td>\n",
       "      <td>KAWALU</td>\n",
       "      <td>LAKI-LAKI</td>\n",
       "      <td>100.00</td>\n",
       "      <td>PERSEN</td>\n",
       "      <td>2018</td>\n",
       "    </tr>\n",
       "    <tr>\n",
       "      <th>1</th>\n",
       "      <td>2</td>\n",
       "      <td>32</td>\n",
       "      <td>JAWA BARAT</td>\n",
       "      <td>3278</td>\n",
       "      <td>KOTA TASIKMALAYA</td>\n",
       "      <td>3278010</td>\n",
       "      <td>KAWALU</td>\n",
       "      <td>KAWALU</td>\n",
       "      <td>PEREMPUAN</td>\n",
       "      <td>100.00</td>\n",
       "      <td>PERSEN</td>\n",
       "      <td>2018</td>\n",
       "    </tr>\n",
       "    <tr>\n",
       "      <th>2</th>\n",
       "      <td>3</td>\n",
       "      <td>32</td>\n",
       "      <td>JAWA BARAT</td>\n",
       "      <td>3278</td>\n",
       "      <td>KOTA TASIKMALAYA</td>\n",
       "      <td>3278010</td>\n",
       "      <td>KAWALU</td>\n",
       "      <td>KARANGANYAR</td>\n",
       "      <td>LAKI-LAKI</td>\n",
       "      <td>104.65</td>\n",
       "      <td>PERSEN</td>\n",
       "      <td>2018</td>\n",
       "    </tr>\n",
       "    <tr>\n",
       "      <th>3</th>\n",
       "      <td>4</td>\n",
       "      <td>32</td>\n",
       "      <td>JAWA BARAT</td>\n",
       "      <td>3278</td>\n",
       "      <td>KOTA TASIKMALAYA</td>\n",
       "      <td>3278010</td>\n",
       "      <td>KAWALU</td>\n",
       "      <td>KARANGANYAR</td>\n",
       "      <td>PEREMPUAN</td>\n",
       "      <td>96.28</td>\n",
       "      <td>PERSEN</td>\n",
       "      <td>2018</td>\n",
       "    </tr>\n",
       "    <tr>\n",
       "      <th>4</th>\n",
       "      <td>5</td>\n",
       "      <td>32</td>\n",
       "      <td>JAWA BARAT</td>\n",
       "      <td>3278</td>\n",
       "      <td>KOTA TASIKMALAYA</td>\n",
       "      <td>3278010</td>\n",
       "      <td>KAWALU</td>\n",
       "      <td>URUG</td>\n",
       "      <td>LAKI-LAKI</td>\n",
       "      <td>103.19</td>\n",
       "      <td>PERSEN</td>\n",
       "      <td>2018</td>\n",
       "    </tr>\n",
       "    <tr>\n",
       "      <th>...</th>\n",
       "      <td>...</td>\n",
       "      <td>...</td>\n",
       "      <td>...</td>\n",
       "      <td>...</td>\n",
       "      <td>...</td>\n",
       "      <td>...</td>\n",
       "      <td>...</td>\n",
       "      <td>...</td>\n",
       "      <td>...</td>\n",
       "      <td>...</td>\n",
       "      <td>...</td>\n",
       "      <td>...</td>\n",
       "    </tr>\n",
       "    <tr>\n",
       "      <th>213</th>\n",
       "      <td>214</td>\n",
       "      <td>32</td>\n",
       "      <td>JAWA BARAT</td>\n",
       "      <td>3278</td>\n",
       "      <td>KOTA TASIKMALAYA</td>\n",
       "      <td>3278080</td>\n",
       "      <td>CIPEDES</td>\n",
       "      <td>CIPEDES</td>\n",
       "      <td>PEREMPUAN</td>\n",
       "      <td>97.50</td>\n",
       "      <td>PERSEN</td>\n",
       "      <td>2023</td>\n",
       "    </tr>\n",
       "    <tr>\n",
       "      <th>214</th>\n",
       "      <td>215</td>\n",
       "      <td>32</td>\n",
       "      <td>JAWA BARAT</td>\n",
       "      <td>3278</td>\n",
       "      <td>KOTA TASIKMALAYA</td>\n",
       "      <td>3278080</td>\n",
       "      <td>CIPEDES</td>\n",
       "      <td>PANGLAYUNGAN</td>\n",
       "      <td>LAKI-LAKI</td>\n",
       "      <td>93.00</td>\n",
       "      <td>PERSEN</td>\n",
       "      <td>2023</td>\n",
       "    </tr>\n",
       "    <tr>\n",
       "      <th>215</th>\n",
       "      <td>216</td>\n",
       "      <td>32</td>\n",
       "      <td>JAWA BARAT</td>\n",
       "      <td>3278</td>\n",
       "      <td>KOTA TASIKMALAYA</td>\n",
       "      <td>3278080</td>\n",
       "      <td>CIPEDES</td>\n",
       "      <td>PANGLAYUNGAN</td>\n",
       "      <td>PEREMPUAN</td>\n",
       "      <td>112.30</td>\n",
       "      <td>PERSEN</td>\n",
       "      <td>2023</td>\n",
       "    </tr>\n",
       "    <tr>\n",
       "      <th>216</th>\n",
       "      <td>217</td>\n",
       "      <td>32</td>\n",
       "      <td>JAWA BARAT</td>\n",
       "      <td>3278</td>\n",
       "      <td>KOTA TASIKMALAYA</td>\n",
       "      <td>3278080</td>\n",
       "      <td>CIPEDES</td>\n",
       "      <td>CIGEUREUNG</td>\n",
       "      <td>LAKI-LAKI</td>\n",
       "      <td>99.30</td>\n",
       "      <td>PERSEN</td>\n",
       "      <td>2023</td>\n",
       "    </tr>\n",
       "    <tr>\n",
       "      <th>217</th>\n",
       "      <td>218</td>\n",
       "      <td>32</td>\n",
       "      <td>JAWA BARAT</td>\n",
       "      <td>3278</td>\n",
       "      <td>KOTA TASIKMALAYA</td>\n",
       "      <td>3278080</td>\n",
       "      <td>CIPEDES</td>\n",
       "      <td>CIGEUREUNG</td>\n",
       "      <td>PEREMPUAN</td>\n",
       "      <td>99.40</td>\n",
       "      <td>PERSEN</td>\n",
       "      <td>2023</td>\n",
       "    </tr>\n",
       "  </tbody>\n",
       "</table>\n",
       "<p>218 rows × 12 columns</p>\n",
       "</div>"
      ],
      "text/plain": [
       "      id  kode_provinsi nama_provinsi  kode_kabupaten_kota  \\\n",
       "0      1             32    JAWA BARAT                 3278   \n",
       "1      2             32    JAWA BARAT                 3278   \n",
       "2      3             32    JAWA BARAT                 3278   \n",
       "3      4             32    JAWA BARAT                 3278   \n",
       "4      5             32    JAWA BARAT                 3278   \n",
       "..   ...            ...           ...                  ...   \n",
       "213  214             32    JAWA BARAT                 3278   \n",
       "214  215             32    JAWA BARAT                 3278   \n",
       "215  216             32    JAWA BARAT                 3278   \n",
       "216  217             32    JAWA BARAT                 3278   \n",
       "217  218             32    JAWA BARAT                 3278   \n",
       "\n",
       "    nama_kabupaten_kota  kode_kecamatan nama_kecamatan     puskesmas  \\\n",
       "0      KOTA TASIKMALAYA         3278010         KAWALU        KAWALU   \n",
       "1      KOTA TASIKMALAYA         3278010         KAWALU        KAWALU   \n",
       "2      KOTA TASIKMALAYA         3278010         KAWALU   KARANGANYAR   \n",
       "3      KOTA TASIKMALAYA         3278010         KAWALU   KARANGANYAR   \n",
       "4      KOTA TASIKMALAYA         3278010         KAWALU          URUG   \n",
       "..                  ...             ...            ...           ...   \n",
       "213    KOTA TASIKMALAYA         3278080        CIPEDES       CIPEDES   \n",
       "214    KOTA TASIKMALAYA         3278080        CIPEDES  PANGLAYUNGAN   \n",
       "215    KOTA TASIKMALAYA         3278080        CIPEDES  PANGLAYUNGAN   \n",
       "216    KOTA TASIKMALAYA         3278080        CIPEDES    CIGEUREUNG   \n",
       "217    KOTA TASIKMALAYA         3278080        CIPEDES    CIGEUREUNG   \n",
       "\n",
       "    jenis_kelamin  persentase_pelayanan  satuan  tahun  \n",
       "0       LAKI-LAKI                100.00  PERSEN   2018  \n",
       "1       PEREMPUAN                100.00  PERSEN   2018  \n",
       "2       LAKI-LAKI                104.65  PERSEN   2018  \n",
       "3       PEREMPUAN                 96.28  PERSEN   2018  \n",
       "4       LAKI-LAKI                103.19  PERSEN   2018  \n",
       "..            ...                   ...     ...    ...  \n",
       "213     PEREMPUAN                 97.50  PERSEN   2023  \n",
       "214     LAKI-LAKI                 93.00  PERSEN   2023  \n",
       "215     PEREMPUAN                112.30  PERSEN   2023  \n",
       "216     LAKI-LAKI                 99.30  PERSEN   2023  \n",
       "217     PEREMPUAN                 99.40  PERSEN   2023  \n",
       "\n",
       "[218 rows x 12 columns]"
      ]
     },
     "execution_count": 7,
     "metadata": {},
     "output_type": "execute_result"
    }
   ],
   "source": [
    "df"
   ]
  },
  {
   "cell_type": "code",
   "execution_count": 8,
   "metadata": {
    "colab": {
     "base_uri": "https://localhost:8080/"
    },
    "executionInfo": {
     "elapsed": 423,
     "status": "ok",
     "timestamp": 1738130244880,
     "user": {
      "displayName": "CHANDRA RENOVAL SAPUTRA",
      "userId": "03865787093941392451"
     },
     "user_tz": -420
    },
    "id": "Fo0idA-FfOfp",
    "outputId": "52b73ed1-1129-4b04-81b9-3e7d441b9642"
   },
   "outputs": [
    {
     "name": "stdout",
     "output_type": "stream",
     "text": [
      "<class 'pandas.core.frame.DataFrame'>\n",
      "RangeIndex: 218 entries, 0 to 217\n",
      "Data columns (total 12 columns):\n",
      " #   Column                Non-Null Count  Dtype  \n",
      "---  ------                --------------  -----  \n",
      " 0   id                    218 non-null    int64  \n",
      " 1   kode_provinsi         218 non-null    int64  \n",
      " 2   nama_provinsi         218 non-null    object \n",
      " 3   kode_kabupaten_kota   218 non-null    int64  \n",
      " 4   nama_kabupaten_kota   218 non-null    object \n",
      " 5   kode_kecamatan        218 non-null    int64  \n",
      " 6   nama_kecamatan        218 non-null    object \n",
      " 7   puskesmas             218 non-null    object \n",
      " 8   jenis_kelamin         218 non-null    object \n",
      " 9   persentase_pelayanan  218 non-null    float64\n",
      " 10  satuan                218 non-null    object \n",
      " 11  tahun                 218 non-null    int64  \n",
      "dtypes: float64(1), int64(5), object(6)\n",
      "memory usage: 20.6+ KB\n"
     ]
    }
   ],
   "source": [
    "df.info()"
   ]
  },
  {
   "cell_type": "markdown",
   "metadata": {
    "id": "rP7qZsueY_rb"
   },
   "source": [
    "# checking data"
   ]
  },
  {
   "cell_type": "code",
   "execution_count": 9,
   "metadata": {
    "colab": {
     "base_uri": "https://localhost:8080/"
    },
    "executionInfo": {
     "elapsed": 396,
     "status": "ok",
     "timestamp": 1738130244880,
     "user": {
      "displayName": "CHANDRA RENOVAL SAPUTRA",
      "userId": "03865787093941392451"
     },
     "user_tz": -420
    },
    "id": "CWcQh7-WMgCL",
    "outputId": "6a48abae-6f47-4a3f-a9fd-35015b39f3f0"
   },
   "outputs": [
    {
     "data": {
      "text/plain": [
       "array([2018, 2020, 2021, 2022, 2023])"
      ]
     },
     "execution_count": 9,
     "metadata": {},
     "output_type": "execute_result"
    }
   ],
   "source": [
    "df['tahun'].unique()"
   ]
  },
  {
   "cell_type": "code",
   "execution_count": 10,
   "metadata": {
    "colab": {
     "base_uri": "https://localhost:8080/",
     "height": 423
    },
    "executionInfo": {
     "elapsed": 378,
     "status": "ok",
     "timestamp": 1738130244880,
     "user": {
      "displayName": "CHANDRA RENOVAL SAPUTRA",
      "userId": "03865787093941392451"
     },
     "user_tz": -420
    },
    "id": "crYlgDrSMn3u",
    "outputId": "00dddabb-f88f-424a-8938-01ee0403dc3f"
   },
   "outputs": [
    {
     "data": {
      "text/html": [
       "<div>\n",
       "<style scoped>\n",
       "    .dataframe tbody tr th:only-of-type {\n",
       "        vertical-align: middle;\n",
       "    }\n",
       "\n",
       "    .dataframe tbody tr th {\n",
       "        vertical-align: top;\n",
       "    }\n",
       "\n",
       "    .dataframe thead th {\n",
       "        text-align: right;\n",
       "    }\n",
       "</style>\n",
       "<table border=\"1\" class=\"dataframe\">\n",
       "  <thead>\n",
       "    <tr style=\"text-align: right;\">\n",
       "      <th></th>\n",
       "      <th>nama_kecamatan</th>\n",
       "      <th>puskesmas</th>\n",
       "      <th>jenis_kelamin</th>\n",
       "      <th>persentase_pelayanan</th>\n",
       "    </tr>\n",
       "  </thead>\n",
       "  <tbody>\n",
       "    <tr>\n",
       "      <th>0</th>\n",
       "      <td>KAWALU</td>\n",
       "      <td>KAWALU</td>\n",
       "      <td>LAKI-LAKI</td>\n",
       "      <td>100.00</td>\n",
       "    </tr>\n",
       "    <tr>\n",
       "      <th>1</th>\n",
       "      <td>KAWALU</td>\n",
       "      <td>KAWALU</td>\n",
       "      <td>PEREMPUAN</td>\n",
       "      <td>100.00</td>\n",
       "    </tr>\n",
       "    <tr>\n",
       "      <th>2</th>\n",
       "      <td>KAWALU</td>\n",
       "      <td>KARANGANYAR</td>\n",
       "      <td>LAKI-LAKI</td>\n",
       "      <td>104.65</td>\n",
       "    </tr>\n",
       "    <tr>\n",
       "      <th>3</th>\n",
       "      <td>KAWALU</td>\n",
       "      <td>KARANGANYAR</td>\n",
       "      <td>PEREMPUAN</td>\n",
       "      <td>96.28</td>\n",
       "    </tr>\n",
       "    <tr>\n",
       "      <th>4</th>\n",
       "      <td>KAWALU</td>\n",
       "      <td>URUG</td>\n",
       "      <td>LAKI-LAKI</td>\n",
       "      <td>103.19</td>\n",
       "    </tr>\n",
       "    <tr>\n",
       "      <th>...</th>\n",
       "      <td>...</td>\n",
       "      <td>...</td>\n",
       "      <td>...</td>\n",
       "      <td>...</td>\n",
       "    </tr>\n",
       "    <tr>\n",
       "      <th>213</th>\n",
       "      <td>CIPEDES</td>\n",
       "      <td>CIPEDES</td>\n",
       "      <td>PEREMPUAN</td>\n",
       "      <td>97.50</td>\n",
       "    </tr>\n",
       "    <tr>\n",
       "      <th>214</th>\n",
       "      <td>CIPEDES</td>\n",
       "      <td>PANGLAYUNGAN</td>\n",
       "      <td>LAKI-LAKI</td>\n",
       "      <td>93.00</td>\n",
       "    </tr>\n",
       "    <tr>\n",
       "      <th>215</th>\n",
       "      <td>CIPEDES</td>\n",
       "      <td>PANGLAYUNGAN</td>\n",
       "      <td>PEREMPUAN</td>\n",
       "      <td>112.30</td>\n",
       "    </tr>\n",
       "    <tr>\n",
       "      <th>216</th>\n",
       "      <td>CIPEDES</td>\n",
       "      <td>CIGEUREUNG</td>\n",
       "      <td>LAKI-LAKI</td>\n",
       "      <td>99.30</td>\n",
       "    </tr>\n",
       "    <tr>\n",
       "      <th>217</th>\n",
       "      <td>CIPEDES</td>\n",
       "      <td>CIGEUREUNG</td>\n",
       "      <td>PEREMPUAN</td>\n",
       "      <td>99.40</td>\n",
       "    </tr>\n",
       "  </tbody>\n",
       "</table>\n",
       "<p>218 rows × 4 columns</p>\n",
       "</div>"
      ],
      "text/plain": [
       "    nama_kecamatan     puskesmas jenis_kelamin  persentase_pelayanan\n",
       "0           KAWALU        KAWALU     LAKI-LAKI                100.00\n",
       "1           KAWALU        KAWALU     PEREMPUAN                100.00\n",
       "2           KAWALU   KARANGANYAR     LAKI-LAKI                104.65\n",
       "3           KAWALU   KARANGANYAR     PEREMPUAN                 96.28\n",
       "4           KAWALU          URUG     LAKI-LAKI                103.19\n",
       "..             ...           ...           ...                   ...\n",
       "213        CIPEDES       CIPEDES     PEREMPUAN                 97.50\n",
       "214        CIPEDES  PANGLAYUNGAN     LAKI-LAKI                 93.00\n",
       "215        CIPEDES  PANGLAYUNGAN     PEREMPUAN                112.30\n",
       "216        CIPEDES    CIGEUREUNG     LAKI-LAKI                 99.30\n",
       "217        CIPEDES    CIGEUREUNG     PEREMPUAN                 99.40\n",
       "\n",
       "[218 rows x 4 columns]"
      ]
     },
     "execution_count": 10,
     "metadata": {},
     "output_type": "execute_result"
    }
   ],
   "source": [
    "column_to_drop = [\n",
    "    'id',\n",
    "    'kode_provinsi',\n",
    "    'nama_provinsi',\n",
    "    'kode_kabupaten_kota',\n",
    "    'nama_kabupaten_kota',\n",
    "    'kode_kecamatan',\n",
    "    'satuan',\n",
    "    'tahun']\n",
    "df = df.drop(columns=column_to_drop)\n",
    "df"
   ]
  },
  {
   "cell_type": "code",
   "execution_count": 11,
   "metadata": {
    "colab": {
     "base_uri": "https://localhost:8080/"
    },
    "executionInfo": {
     "elapsed": 363,
     "status": "ok",
     "timestamp": 1738130244881,
     "user": {
      "displayName": "CHANDRA RENOVAL SAPUTRA",
      "userId": "03865787093941392451"
     },
     "user_tz": -420
    },
    "id": "eMAiCTCAao8I",
    "outputId": "5b3a822a-8284-4466-bef1-d33d8c40ce0c"
   },
   "outputs": [
    {
     "name": "stdout",
     "output_type": "stream",
     "text": [
      "<class 'pandas.core.frame.DataFrame'>\n",
      "RangeIndex: 218 entries, 0 to 217\n",
      "Data columns (total 4 columns):\n",
      " #   Column                Non-Null Count  Dtype  \n",
      "---  ------                --------------  -----  \n",
      " 0   nama_kecamatan        218 non-null    object \n",
      " 1   puskesmas             218 non-null    object \n",
      " 2   jenis_kelamin         218 non-null    object \n",
      " 3   persentase_pelayanan  218 non-null    float64\n",
      "dtypes: float64(1), object(3)\n",
      "memory usage: 6.9+ KB\n"
     ]
    }
   ],
   "source": [
    "df.info()"
   ]
  },
  {
   "cell_type": "markdown",
   "metadata": {
    "id": "0fjAFXKD2S37"
   },
   "source": [
    "# cleaning data"
   ]
  },
  {
   "cell_type": "code",
   "execution_count": 12,
   "metadata": {
    "executionInfo": {
     "elapsed": 351,
     "status": "ok",
     "timestamp": 1738130244881,
     "user": {
      "displayName": "CHANDRA RENOVAL SAPUTRA",
      "userId": "03865787093941392451"
     },
     "user_tz": -420
    },
    "id": "yPhSZpOm2bhE"
   },
   "outputs": [],
   "source": [
    "def cap_percentage(data):\n",
    "  if data > 100:\n",
    "    return 100.00\n",
    "  elif data < 0:\n",
    "    return 0\n",
    "  else:\n",
    "    return data"
   ]
  },
  {
   "cell_type": "code",
   "execution_count": 13,
   "metadata": {
    "executionInfo": {
     "elapsed": 343,
     "status": "ok",
     "timestamp": 1738130244881,
     "user": {
      "displayName": "CHANDRA RENOVAL SAPUTRA",
      "userId": "03865787093941392451"
     },
     "user_tz": -420
    },
    "id": "x3r9DnOu37P6"
   },
   "outputs": [],
   "source": [
    "df['persentase_pelayanan'] = df['persentase_pelayanan'].apply(cap_percentage)"
   ]
  },
  {
   "cell_type": "code",
   "execution_count": 14,
   "metadata": {
    "colab": {
     "base_uri": "https://localhost:8080/"
    },
    "executionInfo": {
     "elapsed": 344,
     "status": "ok",
     "timestamp": 1738130244882,
     "user": {
      "displayName": "CHANDRA RENOVAL SAPUTRA",
      "userId": "03865787093941392451"
     },
     "user_tz": -420
    },
    "id": "3zKYoK5Z4DR3",
    "outputId": "a21e2f7e-83b0-4ac6-b698-f210de2b7ebd"
   },
   "outputs": [
    {
     "data": {
      "text/plain": [
       "array([100.  ,  96.28,  94.05,  98.08,  91.67,  91.57,  92.7 ,  97.65,\n",
       "        93.06,  90.74,  98.41,  99.25,  95.39,  99.31,  90.27,  95.51,\n",
       "        99.7 ,  91.9 ,  83.8 ,  77.1 ,  98.3 ,  87.7 ,  90.  ,  93.7 ,\n",
       "        96.5 ,  98.2 ,  78.7 ,  79.3 ,  93.5 ,  97.  ,  78.9 ,  80.6 ,\n",
       "        40.  ,  41.2 ,  96.7 ,  97.5 ,  98.  ,  92.6 ,  97.1 ,  92.8 ,\n",
       "        86.3 ,  94.9 ,  53.8 ,  49.3 ,  90.1 ,  85.6 ,  84.1 ,  76.2 ,\n",
       "        73.4 ,  68.1 ,  94.5 ,  97.2 ,  87.8 ,  91.3 ,  94.7 ,  89.3 ,\n",
       "        85.2 ,  93.8 ,  94.3 ,  95.8 ,  82.9 ,  97.6 ,  95.9 ,  97.3 ,\n",
       "        94.  ,  98.7 ,  54.9 ,  46.  ,  50.3 ,  50.7 ,  47.3 ,  46.2 ,\n",
       "        46.8 ,  52.  ,  51.  ,  49.5 ,  51.2 ,  52.3 ,  53.2 ,  47.8 ,\n",
       "        63.3 ,  70.6 ,  64.8 ,  49.2 ,  52.1 ,  50.4 ,  53.  ,  51.5 ,\n",
       "        55.2 ,  49.6 ,  48.1 ,  57.8 ,  43.6 ,  49.8 ,  45.4 ,  63.  ,\n",
       "        66.9 ,  51.9 ,  48.3 ,  47.5 ,  54.7 ,  93.4 ,  93.6 ,  99.6 ,\n",
       "        77.7 ,  89.1 ,  95.7 ,  88.8 ,  99.4 ,  93.2 ,  87.3 ,  93.9 ,\n",
       "        91.7 ,  93.  ,  99.3 ])"
      ]
     },
     "execution_count": 14,
     "metadata": {},
     "output_type": "execute_result"
    }
   ],
   "source": [
    "df['persentase_pelayanan'].unique()"
   ]
  },
  {
   "cell_type": "markdown",
   "metadata": {
    "id": "IVqX6H5PfRfT"
   },
   "source": [
    "## mengubah kolom persentase pelayanan menjadi categoric"
   ]
  },
  {
   "cell_type": "code",
   "execution_count": 15,
   "metadata": {
    "executionInfo": {
     "elapsed": 331,
     "status": "ok",
     "timestamp": 1738130244882,
     "user": {
      "displayName": "CHANDRA RENOVAL SAPUTRA",
      "userId": "03865787093941392451"
     },
     "user_tz": -420
    },
    "id": "6csufvmHe0uF"
   },
   "outputs": [],
   "source": [
    "def categorize_service(data):\n",
    "  if data < 60:\n",
    "    return 'TIDAK LAYAK'\n",
    "  elif data < 80:\n",
    "    return 'CUKUP'\n",
    "  else:\n",
    "    return 'LAYAK'"
   ]
  },
  {
   "cell_type": "code",
   "execution_count": 16,
   "metadata": {
    "executionInfo": {
     "elapsed": 330,
     "status": "ok",
     "timestamp": 1738130244882,
     "user": {
      "displayName": "CHANDRA RENOVAL SAPUTRA",
      "userId": "03865787093941392451"
     },
     "user_tz": -420
    },
    "id": "ns6ZOcMBe0_O"
   },
   "outputs": [],
   "source": [
    "df['kategori_pelayanan'] = df['persentase_pelayanan'].apply(categorize_service)"
   ]
  },
  {
   "cell_type": "code",
   "execution_count": 17,
   "metadata": {
    "colab": {
     "base_uri": "https://localhost:8080/"
    },
    "executionInfo": {
     "elapsed": 323,
     "status": "ok",
     "timestamp": 1738130244882,
     "user": {
      "displayName": "CHANDRA RENOVAL SAPUTRA",
      "userId": "03865787093941392451"
     },
     "user_tz": -420
    },
    "id": "E2-XR_VC95_t",
    "outputId": "56638339-bf5d-44e4-f3b1-9f948b7f2e70"
   },
   "outputs": [
    {
     "data": {
      "text/plain": [
       "array(['LAYAK', 'CUKUP', 'TIDAK LAYAK'], dtype=object)"
      ]
     },
     "execution_count": 17,
     "metadata": {},
     "output_type": "execute_result"
    }
   ],
   "source": [
    "df['kategori_pelayanan'].unique()"
   ]
  },
  {
   "cell_type": "code",
   "execution_count": 18,
   "metadata": {
    "colab": {
     "base_uri": "https://localhost:8080/",
     "height": 423
    },
    "executionInfo": {
     "elapsed": 311,
     "status": "ok",
     "timestamp": 1738130244882,
     "user": {
      "displayName": "CHANDRA RENOVAL SAPUTRA",
      "userId": "03865787093941392451"
     },
     "user_tz": -420
    },
    "id": "GZj9Hq-NAAm3",
    "outputId": "465189e9-d3db-43fd-8c84-03ef2027ca2a"
   },
   "outputs": [
    {
     "data": {
      "text/html": [
       "<div>\n",
       "<style scoped>\n",
       "    .dataframe tbody tr th:only-of-type {\n",
       "        vertical-align: middle;\n",
       "    }\n",
       "\n",
       "    .dataframe tbody tr th {\n",
       "        vertical-align: top;\n",
       "    }\n",
       "\n",
       "    .dataframe thead th {\n",
       "        text-align: right;\n",
       "    }\n",
       "</style>\n",
       "<table border=\"1\" class=\"dataframe\">\n",
       "  <thead>\n",
       "    <tr style=\"text-align: right;\">\n",
       "      <th></th>\n",
       "      <th>nama_kecamatan</th>\n",
       "      <th>puskesmas</th>\n",
       "      <th>jenis_kelamin</th>\n",
       "      <th>persentase_pelayanan</th>\n",
       "      <th>kategori_pelayanan</th>\n",
       "    </tr>\n",
       "  </thead>\n",
       "  <tbody>\n",
       "    <tr>\n",
       "      <th>0</th>\n",
       "      <td>KAWALU</td>\n",
       "      <td>KAWALU</td>\n",
       "      <td>LAKI-LAKI</td>\n",
       "      <td>100.00</td>\n",
       "      <td>LAYAK</td>\n",
       "    </tr>\n",
       "    <tr>\n",
       "      <th>1</th>\n",
       "      <td>KAWALU</td>\n",
       "      <td>KAWALU</td>\n",
       "      <td>PEREMPUAN</td>\n",
       "      <td>100.00</td>\n",
       "      <td>LAYAK</td>\n",
       "    </tr>\n",
       "    <tr>\n",
       "      <th>2</th>\n",
       "      <td>KAWALU</td>\n",
       "      <td>KARANGANYAR</td>\n",
       "      <td>LAKI-LAKI</td>\n",
       "      <td>100.00</td>\n",
       "      <td>LAYAK</td>\n",
       "    </tr>\n",
       "    <tr>\n",
       "      <th>3</th>\n",
       "      <td>KAWALU</td>\n",
       "      <td>KARANGANYAR</td>\n",
       "      <td>PEREMPUAN</td>\n",
       "      <td>96.28</td>\n",
       "      <td>LAYAK</td>\n",
       "    </tr>\n",
       "    <tr>\n",
       "      <th>4</th>\n",
       "      <td>KAWALU</td>\n",
       "      <td>URUG</td>\n",
       "      <td>LAKI-LAKI</td>\n",
       "      <td>100.00</td>\n",
       "      <td>LAYAK</td>\n",
       "    </tr>\n",
       "    <tr>\n",
       "      <th>...</th>\n",
       "      <td>...</td>\n",
       "      <td>...</td>\n",
       "      <td>...</td>\n",
       "      <td>...</td>\n",
       "      <td>...</td>\n",
       "    </tr>\n",
       "    <tr>\n",
       "      <th>213</th>\n",
       "      <td>CIPEDES</td>\n",
       "      <td>CIPEDES</td>\n",
       "      <td>PEREMPUAN</td>\n",
       "      <td>97.50</td>\n",
       "      <td>LAYAK</td>\n",
       "    </tr>\n",
       "    <tr>\n",
       "      <th>214</th>\n",
       "      <td>CIPEDES</td>\n",
       "      <td>PANGLAYUNGAN</td>\n",
       "      <td>LAKI-LAKI</td>\n",
       "      <td>93.00</td>\n",
       "      <td>LAYAK</td>\n",
       "    </tr>\n",
       "    <tr>\n",
       "      <th>215</th>\n",
       "      <td>CIPEDES</td>\n",
       "      <td>PANGLAYUNGAN</td>\n",
       "      <td>PEREMPUAN</td>\n",
       "      <td>100.00</td>\n",
       "      <td>LAYAK</td>\n",
       "    </tr>\n",
       "    <tr>\n",
       "      <th>216</th>\n",
       "      <td>CIPEDES</td>\n",
       "      <td>CIGEUREUNG</td>\n",
       "      <td>LAKI-LAKI</td>\n",
       "      <td>99.30</td>\n",
       "      <td>LAYAK</td>\n",
       "    </tr>\n",
       "    <tr>\n",
       "      <th>217</th>\n",
       "      <td>CIPEDES</td>\n",
       "      <td>CIGEUREUNG</td>\n",
       "      <td>PEREMPUAN</td>\n",
       "      <td>99.40</td>\n",
       "      <td>LAYAK</td>\n",
       "    </tr>\n",
       "  </tbody>\n",
       "</table>\n",
       "<p>218 rows × 5 columns</p>\n",
       "</div>"
      ],
      "text/plain": [
       "    nama_kecamatan     puskesmas jenis_kelamin  persentase_pelayanan  \\\n",
       "0           KAWALU        KAWALU     LAKI-LAKI                100.00   \n",
       "1           KAWALU        KAWALU     PEREMPUAN                100.00   \n",
       "2           KAWALU   KARANGANYAR     LAKI-LAKI                100.00   \n",
       "3           KAWALU   KARANGANYAR     PEREMPUAN                 96.28   \n",
       "4           KAWALU          URUG     LAKI-LAKI                100.00   \n",
       "..             ...           ...           ...                   ...   \n",
       "213        CIPEDES       CIPEDES     PEREMPUAN                 97.50   \n",
       "214        CIPEDES  PANGLAYUNGAN     LAKI-LAKI                 93.00   \n",
       "215        CIPEDES  PANGLAYUNGAN     PEREMPUAN                100.00   \n",
       "216        CIPEDES    CIGEUREUNG     LAKI-LAKI                 99.30   \n",
       "217        CIPEDES    CIGEUREUNG     PEREMPUAN                 99.40   \n",
       "\n",
       "    kategori_pelayanan  \n",
       "0                LAYAK  \n",
       "1                LAYAK  \n",
       "2                LAYAK  \n",
       "3                LAYAK  \n",
       "4                LAYAK  \n",
       "..                 ...  \n",
       "213              LAYAK  \n",
       "214              LAYAK  \n",
       "215              LAYAK  \n",
       "216              LAYAK  \n",
       "217              LAYAK  \n",
       "\n",
       "[218 rows x 5 columns]"
      ]
     },
     "execution_count": 18,
     "metadata": {},
     "output_type": "execute_result"
    }
   ],
   "source": [
    "df"
   ]
  },
  {
   "cell_type": "markdown",
   "metadata": {
    "id": "5ofYKNB6dDqe"
   },
   "source": [
    "# visualisasi data"
   ]
  },
  {
   "cell_type": "code",
   "execution_count": 19,
   "metadata": {
    "colab": {
     "base_uri": "https://localhost:8080/",
     "height": 363
    },
    "executionInfo": {
     "elapsed": 304,
     "status": "ok",
     "timestamp": 1738130244883,
     "user": {
      "displayName": "CHANDRA RENOVAL SAPUTRA",
      "userId": "03865787093941392451"
     },
     "user_tz": -420
    },
    "id": "-7edMM_4tncW",
    "outputId": "adb1698a-c5d5-4043-94fb-ecbc80519f0a"
   },
   "outputs": [
    {
     "data": {
      "text/html": [
       "<div>\n",
       "<style scoped>\n",
       "    .dataframe tbody tr th:only-of-type {\n",
       "        vertical-align: middle;\n",
       "    }\n",
       "\n",
       "    .dataframe tbody tr th {\n",
       "        vertical-align: top;\n",
       "    }\n",
       "\n",
       "    .dataframe thead th {\n",
       "        text-align: right;\n",
       "    }\n",
       "</style>\n",
       "<table border=\"1\" class=\"dataframe\">\n",
       "  <thead>\n",
       "    <tr style=\"text-align: right;\">\n",
       "      <th></th>\n",
       "      <th>nama_kecamatan</th>\n",
       "      <th>jumlah_puskesmas</th>\n",
       "    </tr>\n",
       "  </thead>\n",
       "  <tbody>\n",
       "    <tr>\n",
       "      <th>0</th>\n",
       "      <td>BUNGURSARI</td>\n",
       "      <td>3</td>\n",
       "    </tr>\n",
       "    <tr>\n",
       "      <th>1</th>\n",
       "      <td>CIBEUREUM</td>\n",
       "      <td>2</td>\n",
       "    </tr>\n",
       "    <tr>\n",
       "      <th>2</th>\n",
       "      <td>CIHIDEUNG</td>\n",
       "      <td>2</td>\n",
       "    </tr>\n",
       "    <tr>\n",
       "      <th>3</th>\n",
       "      <td>CIPEDES</td>\n",
       "      <td>3</td>\n",
       "    </tr>\n",
       "    <tr>\n",
       "      <th>4</th>\n",
       "      <td>INDIHIANG</td>\n",
       "      <td>2</td>\n",
       "    </tr>\n",
       "    <tr>\n",
       "      <th>5</th>\n",
       "      <td>KAWALU</td>\n",
       "      <td>3</td>\n",
       "    </tr>\n",
       "    <tr>\n",
       "      <th>6</th>\n",
       "      <td>MANGKUBUMI</td>\n",
       "      <td>2</td>\n",
       "    </tr>\n",
       "    <tr>\n",
       "      <th>7</th>\n",
       "      <td>PURBARATU</td>\n",
       "      <td>1</td>\n",
       "    </tr>\n",
       "    <tr>\n",
       "      <th>8</th>\n",
       "      <td>TAMANSARI</td>\n",
       "      <td>2</td>\n",
       "    </tr>\n",
       "    <tr>\n",
       "      <th>9</th>\n",
       "      <td>TAWANG</td>\n",
       "      <td>2</td>\n",
       "    </tr>\n",
       "  </tbody>\n",
       "</table>\n",
       "</div>"
      ],
      "text/plain": [
       "  nama_kecamatan  jumlah_puskesmas\n",
       "0     BUNGURSARI                 3\n",
       "1      CIBEUREUM                 2\n",
       "2      CIHIDEUNG                 2\n",
       "3        CIPEDES                 3\n",
       "4      INDIHIANG                 2\n",
       "5         KAWALU                 3\n",
       "6     MANGKUBUMI                 2\n",
       "7      PURBARATU                 1\n",
       "8      TAMANSARI                 2\n",
       "9         TAWANG                 2"
      ]
     },
     "execution_count": 19,
     "metadata": {},
     "output_type": "execute_result"
    }
   ],
   "source": [
    "df_puskesmas_kecamatan = df.groupby('nama_kecamatan')['puskesmas'].nunique().reset_index()\n",
    "df_puskesmas_kecamatan.columns = ['nama_kecamatan', 'jumlah_puskesmas']\n",
    "df_puskesmas_kecamatan"
   ]
  },
  {
   "cell_type": "markdown",
   "metadata": {
    "id": "RZ-VMXCCpPQQ"
   },
   "source": [
    "* pada kecamatan kawalu, bungursari, cipedes memiliki jumlah puskesmas yang paling banyak\n",
    "* pada kecamatan purbaratu memiliki jumlah puskesmas yang paling sedikit"
   ]
  },
  {
   "cell_type": "code",
   "execution_count": null,
   "metadata": {
    "colab": {
     "base_uri": "https://localhost:8080/",
     "height": 555
    },
    "executionInfo": {
     "elapsed": 64,
     "status": "ok",
     "timestamp": 1738130244883,
     "user": {
      "displayName": "CHANDRA RENOVAL SAPUTRA",
      "userId": "03865787093941392451"
     },
     "user_tz": -420
    },
    "id": "5GhUvLIB2V4U",
    "outputId": "7102386c-53b0-4848-c2a2-681970407de3"
   },
   "outputs": [
    {
     "data": {
      "image/png": "[encoded data removed]",
      "text/plain": [
       "<Figure size 640x480 with 1 Axes>"
      ]
     },
     "metadata": {},
     "output_type": "display_data"
    }
   ],
   "source": [
    "sns.barplot(data=df_puskesmas_kecamatan, x='nama_kecamatan', y='jumlah_puskesmas')\n",
    "plt.xticks(rotation=90)\n",
    "plt.xlabel('Nama Kecamatan')\n",
    "plt.ylabel('Jumlah Puskesmas')\n",
    "plt.title('Jumlah Puskesmas Berdasarkan Kecamatan')\n",
    "plt.show()"
   ]
  },
  {
   "cell_type": "markdown",
   "metadata": {
    "id": "D_HiH8YzqHMa"
   },
   "source": [
    "* disetiap kecamatan memiliki cukup banyak pelayanan yang LAYAK\n",
    "* namun pemerintah setempat tetap harus memperhatikan pelayanan yang TIDAK LAYAK pada setiap kecamatan\n",
    "* serta perlu adanya peningkatan pelayanan di beberapa kecamatan"
   ]
  },
  {
   "cell_type": "code",
   "execution_count": 21,
   "metadata": {
    "colab": {
     "base_uri": "https://localhost:8080/",
     "height": 647
    },
    "executionInfo": {
     "elapsed": 936,
     "status": "ok",
     "timestamp": 1738130245760,
     "user": {
      "displayName": "CHANDRA RENOVAL SAPUTRA",
      "userId": "03865787093941392451"
     },
     "user_tz": -420
    },
    "id": "ox9TIMqkeNC_",
    "outputId": "2edd8eec-099a-4c02-b888-881860d873d3"
   },
   "outputs": [
    {
     "data": {
      "image/png": "[encoded data removed]",
      "text/plain": [
       "<Figure size 1000x600 with 1 Axes>"
      ]
     },
     "metadata": {},
     "output_type": "display_data"
    }
   ],
   "source": [
    "plt.figure(figsize=(10, 6))\n",
    "sns.countplot(data=df, x='nama_kecamatan', hue='kategori_pelayanan', palette=['green', 'yellow', 'red'])\n",
    "plt.xticks(rotation=90) #rotasi nama kecamatannya\n",
    "plt.xlabel('Nama Kecamatan')\n",
    "plt.ylabel('Jumlah Pelayanan')\n",
    "plt.title('Jumlah Kelayakan Pelayanan Berdasarkan Kecamatan')\n",
    "plt.legend(title='Kategori Pelayanan')\n",
    "plt.show()"
   ]
  },
  {
   "cell_type": "markdown",
   "metadata": {
    "id": "PtyPs_QGeYZQ"
   },
   "source": [
    "# Encoding data"
   ]
  },
  {
   "cell_type": "code",
   "execution_count": 22,
   "metadata": {
    "executionInfo": {
     "elapsed": 73,
     "status": "ok",
     "timestamp": 1738130245761,
     "user": {
      "displayName": "CHANDRA RENOVAL SAPUTRA",
      "userId": "03865787093941392451"
     },
     "user_tz": -420
    },
    "id": "yeDJNGmtSth7"
   },
   "outputs": [],
   "source": [
    "def encoding_kategori(data):\n",
    "  if data == 'LAYAK':\n",
    "    return 3\n",
    "  elif data == 'CUKUP':\n",
    "    return 2\n",
    "  else:\n",
    "    return 1"
   ]
  },
  {
   "cell_type": "code",
   "execution_count": 23,
   "metadata": {
    "executionInfo": {
     "elapsed": 72,
     "status": "ok",
     "timestamp": 1738130245762,
     "user": {
      "displayName": "CHANDRA RENOVAL SAPUTRA",
      "userId": "03865787093941392451"
     },
     "user_tz": -420
    },
    "id": "3HrRd9lbS8a3"
   },
   "outputs": [],
   "source": [
    "df['kategori_pelayanan'] = df['kategori_pelayanan'].apply(encoding_kategori)"
   ]
  },
  {
   "cell_type": "code",
   "execution_count": 24,
   "metadata": {
    "colab": {
     "base_uri": "https://localhost:8080/",
     "height": 423
    },
    "executionInfo": {
     "elapsed": 71,
     "status": "ok",
     "timestamp": 1738130245762,
     "user": {
      "displayName": "CHANDRA RENOVAL SAPUTRA",
      "userId": "03865787093941392451"
     },
     "user_tz": -420
    },
    "id": "Cg4ngKoITVSB",
    "outputId": "23029b3e-d864-48c5-ca54-2759699c2f3b"
   },
   "outputs": [
    {
     "data": {
      "text/html": [
       "<div>\n",
       "<style scoped>\n",
       "    .dataframe tbody tr th:only-of-type {\n",
       "        vertical-align: middle;\n",
       "    }\n",
       "\n",
       "    .dataframe tbody tr th {\n",
       "        vertical-align: top;\n",
       "    }\n",
       "\n",
       "    .dataframe thead th {\n",
       "        text-align: right;\n",
       "    }\n",
       "</style>\n",
       "<table border=\"1\" class=\"dataframe\">\n",
       "  <thead>\n",
       "    <tr style=\"text-align: right;\">\n",
       "      <th></th>\n",
       "      <th>nama_kecamatan</th>\n",
       "      <th>puskesmas</th>\n",
       "      <th>jenis_kelamin</th>\n",
       "      <th>persentase_pelayanan</th>\n",
       "      <th>kategori_pelayanan</th>\n",
       "    </tr>\n",
       "  </thead>\n",
       "  <tbody>\n",
       "    <tr>\n",
       "      <th>0</th>\n",
       "      <td>KAWALU</td>\n",
       "      <td>KAWALU</td>\n",
       "      <td>LAKI-LAKI</td>\n",
       "      <td>100.00</td>\n",
       "      <td>3</td>\n",
       "    </tr>\n",
       "    <tr>\n",
       "      <th>1</th>\n",
       "      <td>KAWALU</td>\n",
       "      <td>KAWALU</td>\n",
       "      <td>PEREMPUAN</td>\n",
       "      <td>100.00</td>\n",
       "      <td>3</td>\n",
       "    </tr>\n",
       "    <tr>\n",
       "      <th>2</th>\n",
       "      <td>KAWALU</td>\n",
       "      <td>KARANGANYAR</td>\n",
       "      <td>LAKI-LAKI</td>\n",
       "      <td>100.00</td>\n",
       "      <td>3</td>\n",
       "    </tr>\n",
       "    <tr>\n",
       "      <th>3</th>\n",
       "      <td>KAWALU</td>\n",
       "      <td>KARANGANYAR</td>\n",
       "      <td>PEREMPUAN</td>\n",
       "      <td>96.28</td>\n",
       "      <td>3</td>\n",
       "    </tr>\n",
       "    <tr>\n",
       "      <th>4</th>\n",
       "      <td>KAWALU</td>\n",
       "      <td>URUG</td>\n",
       "      <td>LAKI-LAKI</td>\n",
       "      <td>100.00</td>\n",
       "      <td>3</td>\n",
       "    </tr>\n",
       "    <tr>\n",
       "      <th>...</th>\n",
       "      <td>...</td>\n",
       "      <td>...</td>\n",
       "      <td>...</td>\n",
       "      <td>...</td>\n",
       "      <td>...</td>\n",
       "    </tr>\n",
       "    <tr>\n",
       "      <th>213</th>\n",
       "      <td>CIPEDES</td>\n",
       "      <td>CIPEDES</td>\n",
       "      <td>PEREMPUAN</td>\n",
       "      <td>97.50</td>\n",
       "      <td>3</td>\n",
       "    </tr>\n",
       "    <tr>\n",
       "      <th>214</th>\n",
       "      <td>CIPEDES</td>\n",
       "      <td>PANGLAYUNGAN</td>\n",
       "      <td>LAKI-LAKI</td>\n",
       "      <td>93.00</td>\n",
       "      <td>3</td>\n",
       "    </tr>\n",
       "    <tr>\n",
       "      <th>215</th>\n",
       "      <td>CIPEDES</td>\n",
       "      <td>PANGLAYUNGAN</td>\n",
       "      <td>PEREMPUAN</td>\n",
       "      <td>100.00</td>\n",
       "      <td>3</td>\n",
       "    </tr>\n",
       "    <tr>\n",
       "      <th>216</th>\n",
       "      <td>CIPEDES</td>\n",
       "      <td>CIGEUREUNG</td>\n",
       "      <td>LAKI-LAKI</td>\n",
       "      <td>99.30</td>\n",
       "      <td>3</td>\n",
       "    </tr>\n",
       "    <tr>\n",
       "      <th>217</th>\n",
       "      <td>CIPEDES</td>\n",
       "      <td>CIGEUREUNG</td>\n",
       "      <td>PEREMPUAN</td>\n",
       "      <td>99.40</td>\n",
       "      <td>3</td>\n",
       "    </tr>\n",
       "  </tbody>\n",
       "</table>\n",
       "<p>218 rows × 5 columns</p>\n",
       "</div>"
      ],
      "text/plain": [
       "    nama_kecamatan     puskesmas jenis_kelamin  persentase_pelayanan  \\\n",
       "0           KAWALU        KAWALU     LAKI-LAKI                100.00   \n",
       "1           KAWALU        KAWALU     PEREMPUAN                100.00   \n",
       "2           KAWALU   KARANGANYAR     LAKI-LAKI                100.00   \n",
       "3           KAWALU   KARANGANYAR     PEREMPUAN                 96.28   \n",
       "4           KAWALU          URUG     LAKI-LAKI                100.00   \n",
       "..             ...           ...           ...                   ...   \n",
       "213        CIPEDES       CIPEDES     PEREMPUAN                 97.50   \n",
       "214        CIPEDES  PANGLAYUNGAN     LAKI-LAKI                 93.00   \n",
       "215        CIPEDES  PANGLAYUNGAN     PEREMPUAN                100.00   \n",
       "216        CIPEDES    CIGEUREUNG     LAKI-LAKI                 99.30   \n",
       "217        CIPEDES    CIGEUREUNG     PEREMPUAN                 99.40   \n",
       "\n",
       "     kategori_pelayanan  \n",
       "0                     3  \n",
       "1                     3  \n",
       "2                     3  \n",
       "3                     3  \n",
       "4                     3  \n",
       "..                  ...  \n",
       "213                   3  \n",
       "214                   3  \n",
       "215                   3  \n",
       "216                   3  \n",
       "217                   3  \n",
       "\n",
       "[218 rows x 5 columns]"
      ]
     },
     "execution_count": 24,
     "metadata": {},
     "output_type": "execute_result"
    }
   ],
   "source": [
    "df"
   ]
  },
  {
   "cell_type": "code",
   "execution_count": 25,
   "metadata": {
    "colab": {
     "base_uri": "https://localhost:8080/",
     "height": 461
    },
    "executionInfo": {
     "elapsed": 67,
     "status": "ok",
     "timestamp": 1738130245762,
     "user": {
      "displayName": "CHANDRA RENOVAL SAPUTRA",
      "userId": "03865787093941392451"
     },
     "user_tz": -420
    },
    "id": "fBQYZCy1TV7j",
    "outputId": "98785a1b-0a11-4494-c94f-30e530f45ff1"
   },
   "outputs": [
    {
     "data": {
      "text/html": [
       "<div>\n",
       "<style scoped>\n",
       "    .dataframe tbody tr th:only-of-type {\n",
       "        vertical-align: middle;\n",
       "    }\n",
       "\n",
       "    .dataframe tbody tr th {\n",
       "        vertical-align: top;\n",
       "    }\n",
       "\n",
       "    .dataframe thead th {\n",
       "        text-align: right;\n",
       "    }\n",
       "</style>\n",
       "<table border=\"1\" class=\"dataframe\">\n",
       "  <thead>\n",
       "    <tr style=\"text-align: right;\">\n",
       "      <th></th>\n",
       "      <th>persentase_pelayanan</th>\n",
       "      <th>kategori_pelayanan</th>\n",
       "      <th>kecamatan_BUNGURSARI</th>\n",
       "      <th>kecamatan_CIBEUREUM</th>\n",
       "      <th>kecamatan_CIHIDEUNG</th>\n",
       "      <th>kecamatan_CIPEDES</th>\n",
       "      <th>kecamatan_INDIHIANG</th>\n",
       "      <th>kecamatan_KAWALU</th>\n",
       "      <th>kecamatan_MANGKUBUMI</th>\n",
       "      <th>kecamatan_PURBARATU</th>\n",
       "      <th>...</th>\n",
       "      <th>puskesmas_PARAKANNYASAG</th>\n",
       "      <th>puskesmas_PURBARATU</th>\n",
       "      <th>puskesmas_SAMBONGPARI</th>\n",
       "      <th>puskesmas_SANGKALI</th>\n",
       "      <th>puskesmas_SUKALAKSANA</th>\n",
       "      <th>puskesmas_TAMANSARI</th>\n",
       "      <th>puskesmas_TAWANG</th>\n",
       "      <th>puskesmas_URUG</th>\n",
       "      <th>gender_LAKI-LAKI</th>\n",
       "      <th>gender_PEREMPUAN</th>\n",
       "    </tr>\n",
       "  </thead>\n",
       "  <tbody>\n",
       "    <tr>\n",
       "      <th>0</th>\n",
       "      <td>100</td>\n",
       "      <td>3</td>\n",
       "      <td>0</td>\n",
       "      <td>0</td>\n",
       "      <td>0</td>\n",
       "      <td>0</td>\n",
       "      <td>0</td>\n",
       "      <td>1</td>\n",
       "      <td>0</td>\n",
       "      <td>0</td>\n",
       "      <td>...</td>\n",
       "      <td>0</td>\n",
       "      <td>0</td>\n",
       "      <td>0</td>\n",
       "      <td>0</td>\n",
       "      <td>0</td>\n",
       "      <td>0</td>\n",
       "      <td>0</td>\n",
       "      <td>0</td>\n",
       "      <td>1</td>\n",
       "      <td>0</td>\n",
       "    </tr>\n",
       "    <tr>\n",
       "      <th>1</th>\n",
       "      <td>100</td>\n",
       "      <td>3</td>\n",
       "      <td>0</td>\n",
       "      <td>0</td>\n",
       "      <td>0</td>\n",
       "      <td>0</td>\n",
       "      <td>0</td>\n",
       "      <td>1</td>\n",
       "      <td>0</td>\n",
       "      <td>0</td>\n",
       "      <td>...</td>\n",
       "      <td>0</td>\n",
       "      <td>0</td>\n",
       "      <td>0</td>\n",
       "      <td>0</td>\n",
       "      <td>0</td>\n",
       "      <td>0</td>\n",
       "      <td>0</td>\n",
       "      <td>0</td>\n",
       "      <td>0</td>\n",
       "      <td>1</td>\n",
       "    </tr>\n",
       "    <tr>\n",
       "      <th>2</th>\n",
       "      <td>100</td>\n",
       "      <td>3</td>\n",
       "      <td>0</td>\n",
       "      <td>0</td>\n",
       "      <td>0</td>\n",
       "      <td>0</td>\n",
       "      <td>0</td>\n",
       "      <td>1</td>\n",
       "      <td>0</td>\n",
       "      <td>0</td>\n",
       "      <td>...</td>\n",
       "      <td>0</td>\n",
       "      <td>0</td>\n",
       "      <td>0</td>\n",
       "      <td>0</td>\n",
       "      <td>0</td>\n",
       "      <td>0</td>\n",
       "      <td>0</td>\n",
       "      <td>0</td>\n",
       "      <td>1</td>\n",
       "      <td>0</td>\n",
       "    </tr>\n",
       "    <tr>\n",
       "      <th>3</th>\n",
       "      <td>96</td>\n",
       "      <td>3</td>\n",
       "      <td>0</td>\n",
       "      <td>0</td>\n",
       "      <td>0</td>\n",
       "      <td>0</td>\n",
       "      <td>0</td>\n",
       "      <td>1</td>\n",
       "      <td>0</td>\n",
       "      <td>0</td>\n",
       "      <td>...</td>\n",
       "      <td>0</td>\n",
       "      <td>0</td>\n",
       "      <td>0</td>\n",
       "      <td>0</td>\n",
       "      <td>0</td>\n",
       "      <td>0</td>\n",
       "      <td>0</td>\n",
       "      <td>0</td>\n",
       "      <td>0</td>\n",
       "      <td>1</td>\n",
       "    </tr>\n",
       "    <tr>\n",
       "      <th>4</th>\n",
       "      <td>100</td>\n",
       "      <td>3</td>\n",
       "      <td>0</td>\n",
       "      <td>0</td>\n",
       "      <td>0</td>\n",
       "      <td>0</td>\n",
       "      <td>0</td>\n",
       "      <td>1</td>\n",
       "      <td>0</td>\n",
       "      <td>0</td>\n",
       "      <td>...</td>\n",
       "      <td>0</td>\n",
       "      <td>0</td>\n",
       "      <td>0</td>\n",
       "      <td>0</td>\n",
       "      <td>0</td>\n",
       "      <td>0</td>\n",
       "      <td>0</td>\n",
       "      <td>1</td>\n",
       "      <td>1</td>\n",
       "      <td>0</td>\n",
       "    </tr>\n",
       "    <tr>\n",
       "      <th>...</th>\n",
       "      <td>...</td>\n",
       "      <td>...</td>\n",
       "      <td>...</td>\n",
       "      <td>...</td>\n",
       "      <td>...</td>\n",
       "      <td>...</td>\n",
       "      <td>...</td>\n",
       "      <td>...</td>\n",
       "      <td>...</td>\n",
       "      <td>...</td>\n",
       "      <td>...</td>\n",
       "      <td>...</td>\n",
       "      <td>...</td>\n",
       "      <td>...</td>\n",
       "      <td>...</td>\n",
       "      <td>...</td>\n",
       "      <td>...</td>\n",
       "      <td>...</td>\n",
       "      <td>...</td>\n",
       "      <td>...</td>\n",
       "      <td>...</td>\n",
       "    </tr>\n",
       "    <tr>\n",
       "      <th>213</th>\n",
       "      <td>97</td>\n",
       "      <td>3</td>\n",
       "      <td>0</td>\n",
       "      <td>0</td>\n",
       "      <td>0</td>\n",
       "      <td>1</td>\n",
       "      <td>0</td>\n",
       "      <td>0</td>\n",
       "      <td>0</td>\n",
       "      <td>0</td>\n",
       "      <td>...</td>\n",
       "      <td>0</td>\n",
       "      <td>0</td>\n",
       "      <td>0</td>\n",
       "      <td>0</td>\n",
       "      <td>0</td>\n",
       "      <td>0</td>\n",
       "      <td>0</td>\n",
       "      <td>0</td>\n",
       "      <td>0</td>\n",
       "      <td>1</td>\n",
       "    </tr>\n",
       "    <tr>\n",
       "      <th>214</th>\n",
       "      <td>93</td>\n",
       "      <td>3</td>\n",
       "      <td>0</td>\n",
       "      <td>0</td>\n",
       "      <td>0</td>\n",
       "      <td>1</td>\n",
       "      <td>0</td>\n",
       "      <td>0</td>\n",
       "      <td>0</td>\n",
       "      <td>0</td>\n",
       "      <td>...</td>\n",
       "      <td>0</td>\n",
       "      <td>0</td>\n",
       "      <td>0</td>\n",
       "      <td>0</td>\n",
       "      <td>0</td>\n",
       "      <td>0</td>\n",
       "      <td>0</td>\n",
       "      <td>0</td>\n",
       "      <td>1</td>\n",
       "      <td>0</td>\n",
       "    </tr>\n",
       "    <tr>\n",
       "      <th>215</th>\n",
       "      <td>100</td>\n",
       "      <td>3</td>\n",
       "      <td>0</td>\n",
       "      <td>0</td>\n",
       "      <td>0</td>\n",
       "      <td>1</td>\n",
       "      <td>0</td>\n",
       "      <td>0</td>\n",
       "      <td>0</td>\n",
       "      <td>0</td>\n",
       "      <td>...</td>\n",
       "      <td>0</td>\n",
       "      <td>0</td>\n",
       "      <td>0</td>\n",
       "      <td>0</td>\n",
       "      <td>0</td>\n",
       "      <td>0</td>\n",
       "      <td>0</td>\n",
       "      <td>0</td>\n",
       "      <td>0</td>\n",
       "      <td>1</td>\n",
       "    </tr>\n",
       "    <tr>\n",
       "      <th>216</th>\n",
       "      <td>99</td>\n",
       "      <td>3</td>\n",
       "      <td>0</td>\n",
       "      <td>0</td>\n",
       "      <td>0</td>\n",
       "      <td>1</td>\n",
       "      <td>0</td>\n",
       "      <td>0</td>\n",
       "      <td>0</td>\n",
       "      <td>0</td>\n",
       "      <td>...</td>\n",
       "      <td>0</td>\n",
       "      <td>0</td>\n",
       "      <td>0</td>\n",
       "      <td>0</td>\n",
       "      <td>0</td>\n",
       "      <td>0</td>\n",
       "      <td>0</td>\n",
       "      <td>0</td>\n",
       "      <td>1</td>\n",
       "      <td>0</td>\n",
       "    </tr>\n",
       "    <tr>\n",
       "      <th>217</th>\n",
       "      <td>99</td>\n",
       "      <td>3</td>\n",
       "      <td>0</td>\n",
       "      <td>0</td>\n",
       "      <td>0</td>\n",
       "      <td>1</td>\n",
       "      <td>0</td>\n",
       "      <td>0</td>\n",
       "      <td>0</td>\n",
       "      <td>0</td>\n",
       "      <td>...</td>\n",
       "      <td>0</td>\n",
       "      <td>0</td>\n",
       "      <td>0</td>\n",
       "      <td>0</td>\n",
       "      <td>0</td>\n",
       "      <td>0</td>\n",
       "      <td>0</td>\n",
       "      <td>0</td>\n",
       "      <td>0</td>\n",
       "      <td>1</td>\n",
       "    </tr>\n",
       "  </tbody>\n",
       "</table>\n",
       "<p>218 rows × 36 columns</p>\n",
       "</div>"
      ],
      "text/plain": [
       "     persentase_pelayanan  kategori_pelayanan  kecamatan_BUNGURSARI  \\\n",
       "0                     100                   3                     0   \n",
       "1                     100                   3                     0   \n",
       "2                     100                   3                     0   \n",
       "3                      96                   3                     0   \n",
       "4                     100                   3                     0   \n",
       "..                    ...                 ...                   ...   \n",
       "213                    97                   3                     0   \n",
       "214                    93                   3                     0   \n",
       "215                   100                   3                     0   \n",
       "216                    99                   3                     0   \n",
       "217                    99                   3                     0   \n",
       "\n",
       "     kecamatan_CIBEUREUM  kecamatan_CIHIDEUNG  kecamatan_CIPEDES  \\\n",
       "0                      0                    0                  0   \n",
       "1                      0                    0                  0   \n",
       "2                      0                    0                  0   \n",
       "3                      0                    0                  0   \n",
       "4                      0                    0                  0   \n",
       "..                   ...                  ...                ...   \n",
       "213                    0                    0                  1   \n",
       "214                    0                    0                  1   \n",
       "215                    0                    0                  1   \n",
       "216                    0                    0                  1   \n",
       "217                    0                    0                  1   \n",
       "\n",
       "     kecamatan_INDIHIANG  kecamatan_KAWALU  kecamatan_MANGKUBUMI  \\\n",
       "0                      0                 1                     0   \n",
       "1                      0                 1                     0   \n",
       "2                      0                 1                     0   \n",
       "3                      0                 1                     0   \n",
       "4                      0                 1                     0   \n",
       "..                   ...               ...                   ...   \n",
       "213                    0                 0                     0   \n",
       "214                    0                 0                     0   \n",
       "215                    0                 0                     0   \n",
       "216                    0                 0                     0   \n",
       "217                    0                 0                     0   \n",
       "\n",
       "     kecamatan_PURBARATU  ...  puskesmas_PARAKANNYASAG  puskesmas_PURBARATU  \\\n",
       "0                      0  ...                        0                    0   \n",
       "1                      0  ...                        0                    0   \n",
       "2                      0  ...                        0                    0   \n",
       "3                      0  ...                        0                    0   \n",
       "4                      0  ...                        0                    0   \n",
       "..                   ...  ...                      ...                  ...   \n",
       "213                    0  ...                        0                    0   \n",
       "214                    0  ...                        0                    0   \n",
       "215                    0  ...                        0                    0   \n",
       "216                    0  ...                        0                    0   \n",
       "217                    0  ...                        0                    0   \n",
       "\n",
       "     puskesmas_SAMBONGPARI  puskesmas_SANGKALI  puskesmas_SUKALAKSANA  \\\n",
       "0                        0                   0                      0   \n",
       "1                        0                   0                      0   \n",
       "2                        0                   0                      0   \n",
       "3                        0                   0                      0   \n",
       "4                        0                   0                      0   \n",
       "..                     ...                 ...                    ...   \n",
       "213                      0                   0                      0   \n",
       "214                      0                   0                      0   \n",
       "215                      0                   0                      0   \n",
       "216                      0                   0                      0   \n",
       "217                      0                   0                      0   \n",
       "\n",
       "     puskesmas_TAMANSARI  puskesmas_TAWANG  puskesmas_URUG  gender_LAKI-LAKI  \\\n",
       "0                      0                 0               0                 1   \n",
       "1                      0                 0               0                 0   \n",
       "2                      0                 0               0                 1   \n",
       "3                      0                 0               0                 0   \n",
       "4                      0                 0               1                 1   \n",
       "..                   ...               ...             ...               ...   \n",
       "213                    0                 0               0                 0   \n",
       "214                    0                 0               0                 1   \n",
       "215                    0                 0               0                 0   \n",
       "216                    0                 0               0                 1   \n",
       "217                    0                 0               0                 0   \n",
       "\n",
       "     gender_PEREMPUAN  \n",
       "0                   0  \n",
       "1                   1  \n",
       "2                   0  \n",
       "3                   1  \n",
       "4                   0  \n",
       "..                ...  \n",
       "213                 1  \n",
       "214                 0  \n",
       "215                 1  \n",
       "216                 0  \n",
       "217                 1  \n",
       "\n",
       "[218 rows x 36 columns]"
      ]
     },
     "execution_count": 25,
     "metadata": {},
     "output_type": "execute_result"
    }
   ],
   "source": [
    "# melakukan one-hot-encoding pada seluruh data kategorik dan merubahnya dengan 0 dan 1\n",
    "df = pd.get_dummies(\n",
    "    data=df,\n",
    "    columns=['nama_kecamatan', 'puskesmas', 'jenis_kelamin'],\n",
    "    prefix={'nama_kecamatan': 'kecamatan', 'puskesmas': 'puskesmas', 'jenis_kelamin': 'gender'} # rubah nama kolom\n",
    ").astype(int)\n",
    "df"
   ]
  },
  {
   "cell_type": "code",
   "execution_count": 26,
   "metadata": {
    "colab": {
     "base_uri": "https://localhost:8080/"
    },
    "executionInfo": {
     "elapsed": 64,
     "status": "ok",
     "timestamp": 1738130245762,
     "user": {
      "displayName": "CHANDRA RENOVAL SAPUTRA",
      "userId": "03865787093941392451"
     },
     "user_tz": -420
    },
    "id": "vj5JF_RpsDLb",
    "outputId": "5dcaed40-7a53-4bc0-a1a8-cddcf2f5aa60"
   },
   "outputs": [
    {
     "name": "stdout",
     "output_type": "stream",
     "text": [
      "<class 'pandas.core.frame.DataFrame'>\n",
      "RangeIndex: 218 entries, 0 to 217\n",
      "Data columns (total 36 columns):\n",
      " #   Column                   Non-Null Count  Dtype\n",
      "---  ------                   --------------  -----\n",
      " 0   persentase_pelayanan     218 non-null    int64\n",
      " 1   kategori_pelayanan       218 non-null    int64\n",
      " 2   kecamatan_BUNGURSARI     218 non-null    int64\n",
      " 3   kecamatan_CIBEUREUM      218 non-null    int64\n",
      " 4   kecamatan_CIHIDEUNG      218 non-null    int64\n",
      " 5   kecamatan_CIPEDES        218 non-null    int64\n",
      " 6   kecamatan_INDIHIANG      218 non-null    int64\n",
      " 7   kecamatan_KAWALU         218 non-null    int64\n",
      " 8   kecamatan_MANGKUBUMI     218 non-null    int64\n",
      " 9   kecamatan_PURBARATU      218 non-null    int64\n",
      " 10  kecamatan_TAMANSARI      218 non-null    int64\n",
      " 11  kecamatan_TAWANG         218 non-null    int64\n",
      " 12  puskesmas_BANTAR         218 non-null    int64\n",
      " 13  puskesmas_BUNGURSARI     218 non-null    int64\n",
      " 14  puskesmas_CIBEUREUM      218 non-null    int64\n",
      " 15  puskesmas_CIGEUREUNG     218 non-null    int64\n",
      " 16  puskesmas_CIHIDEUNG      218 non-null    int64\n",
      " 17  puskesmas_CILEMBANG      218 non-null    int64\n",
      " 18  puskesmas_CIPEDES        218 non-null    int64\n",
      " 19  puskesmas_INDIHIANG      218 non-null    int64\n",
      " 20  puskesmas_KAHURIPAN      218 non-null    int64\n",
      " 21  puskesmas_KARANGANYAR    218 non-null    int64\n",
      " 22  puskesmas_KAWALU         218 non-null    int64\n",
      " 23  puskesmas_KERSANAGARA    218 non-null    int64\n",
      " 24  puskesmas_MANGKUBUMI     218 non-null    int64\n",
      " 25  puskesmas_PANGLAYUNGAN   218 non-null    int64\n",
      " 26  puskesmas_PARAKANNYASAG  218 non-null    int64\n",
      " 27  puskesmas_PURBARATU      218 non-null    int64\n",
      " 28  puskesmas_SAMBONGPARI    218 non-null    int64\n",
      " 29  puskesmas_SANGKALI       218 non-null    int64\n",
      " 30  puskesmas_SUKALAKSANA    218 non-null    int64\n",
      " 31  puskesmas_TAMANSARI      218 non-null    int64\n",
      " 32  puskesmas_TAWANG         218 non-null    int64\n",
      " 33  puskesmas_URUG           218 non-null    int64\n",
      " 34  gender_LAKI-LAKI         218 non-null    int64\n",
      " 35  gender_PEREMPUAN         218 non-null    int64\n",
      "dtypes: int64(36)\n",
      "memory usage: 61.4 KB\n"
     ]
    }
   ],
   "source": [
    "df.info()"
   ]
  },
  {
   "cell_type": "markdown",
   "metadata": {
    "id": "WFCluIS0dtc1"
   },
   "source": [
    "# Multiclass Classification with RandomForest"
   ]
  },
  {
   "cell_type": "code",
   "execution_count": 27,
   "metadata": {
    "executionInfo": {
     "elapsed": 569,
     "status": "ok",
     "timestamp": 1738130246314,
     "user": {
      "displayName": "CHANDRA RENOVAL SAPUTRA",
      "userId": "03865787093941392451"
     },
     "user_tz": -420
    },
    "id": "OqCOL9-dfokt"
   },
   "outputs": [],
   "source": [
    "from sklearn.model_selection import train_test_split, cross_val_score\n",
    "from sklearn.ensemble import RandomForestClassifier\n",
    "from sklearn.metrics import accuracy_score, classification_report"
   ]
  },
  {
   "cell_type": "code",
   "execution_count": 28,
   "metadata": {
    "executionInfo": {
     "elapsed": 44,
     "status": "ok",
     "timestamp": 1738130246314,
     "user": {
      "displayName": "CHANDRA RENOVAL SAPUTRA",
      "userId": "03865787093941392451"
     },
     "user_tz": -420
    },
    "id": "dMeBpWdFg9dr"
   },
   "outputs": [],
   "source": [
    "x = df.drop(columns=['kategori_pelayanan'])\n",
    "y = df['kategori_pelayanan']"
   ]
  },
  {
   "cell_type": "code",
   "execution_count": 29,
   "metadata": {
    "executionInfo": {
     "elapsed": 42,
     "status": "ok",
     "timestamp": 1738130246315,
     "user": {
      "displayName": "CHANDRA RENOVAL SAPUTRA",
      "userId": "03865787093941392451"
     },
     "user_tz": -420
    },
    "id": "Ff7U8ZtBhLVX"
   },
   "outputs": [],
   "source": [
    "X_train, X_test, y_train, y_test = train_test_split(x, y, test_size=0.2, random_state=42)"
   ]
  },
  {
   "cell_type": "code",
   "execution_count": 30,
   "metadata": {
    "executionInfo": {
     "elapsed": 39,
     "status": "ok",
     "timestamp": 1738130246316,
     "user": {
      "displayName": "CHANDRA RENOVAL SAPUTRA",
      "userId": "03865787093941392451"
     },
     "user_tz": -420
    },
    "id": "7KgN3EGLhMKY"
   },
   "outputs": [],
   "source": [
    "rf = RandomForestClassifier(n_estimators=100, criterion='gini', random_state=42)"
   ]
  },
  {
   "cell_type": "code",
   "execution_count": 31,
   "metadata": {
    "colab": {
     "base_uri": "https://localhost:8080/",
     "height": 80
    },
    "executionInfo": {
     "elapsed": 36,
     "status": "ok",
     "timestamp": 1738130246316,
     "user": {
      "displayName": "CHANDRA RENOVAL SAPUTRA",
      "userId": "03865787093941392451"
     },
     "user_tz": -420
    },
    "id": "kQvEyK1jh9mr",
    "outputId": "f9221186-0bf2-4597-8a9d-e54a444325a2"
   },
   "outputs": [
    {
     "data": {
      "text/html": [
       "<style>#sk-container-id-1 {\n",
       "  /* Definition of color scheme common for light and dark mode */\n",
       "  --sklearn-color-text: #000;\n",
       "  --sklearn-color-text-muted: #666;\n",
       "  --sklearn-color-line: gray;\n",
       "  /* Definition of color scheme for unfitted estimators */\n",
       "  --sklearn-color-unfitted-level-0: #fff5e6;\n",
       "  --sklearn-color-unfitted-level-1: #f6e4d2;\n",
       "  --sklearn-color-unfitted-level-2: #ffe0b3;\n",
       "  --sklearn-color-unfitted-level-3: chocolate;\n",
       "  /* Definition of color scheme for fitted estimators */\n",
       "  --sklearn-color-fitted-level-0: #f0f8ff;\n",
       "  --sklearn-color-fitted-level-1: #d4ebff;\n",
       "  --sklearn-color-fitted-level-2: #b3dbfd;\n",
       "  --sklearn-color-fitted-level-3: cornflowerblue;\n",
       "\n",
       "  /* Specific color for light theme */\n",
       "  --sklearn-color-text-on-default-background: var(--sg-text-color, var(--theme-code-foreground, var(--jp-content-font-color1, black)));\n",
       "  --sklearn-color-background: var(--sg-background-color, var(--theme-background, var(--jp-layout-color0, white)));\n",
       "  --sklearn-color-border-box: var(--sg-text-color, var(--theme-code-foreground, var(--jp-content-font-color1, black)));\n",
       "  --sklearn-color-icon: #696969;\n",
       "\n",
       "  @media (prefers-color-scheme: dark) {\n",
       "    /* Redefinition of color scheme for dark theme */\n",
       "    --sklearn-color-text-on-default-background: var(--sg-text-color, var(--theme-code-foreground, var(--jp-content-font-color1, white)));\n",
       "    --sklearn-color-background: var(--sg-background-color, var(--theme-background, var(--jp-layout-color0, #111)));\n",
       "    --sklearn-color-border-box: var(--sg-text-color, var(--theme-code-foreground, var(--jp-content-font-color1, white)));\n",
       "    --sklearn-color-icon: #878787;\n",
       "  }\n",
       "}\n",
       "\n",
       "#sk-container-id-1 {\n",
       "  color: var(--sklearn-color-text);\n",
       "}\n",
       "\n",
       "#sk-container-id-1 pre {\n",
       "  padding: 0;\n",
       "}\n",
       "\n",
       "#sk-container-id-1 input.sk-hidden--visually {\n",
       "  border: 0;\n",
       "  clip: rect(1px 1px 1px 1px);\n",
       "  clip: rect(1px, 1px, 1px, 1px);\n",
       "  height: 1px;\n",
       "  margin: -1px;\n",
       "  overflow: hidden;\n",
       "  padding: 0;\n",
       "  position: absolute;\n",
       "  width: 1px;\n",
       "}\n",
       "\n",
       "#sk-container-id-1 div.sk-dashed-wrapped {\n",
       "  border: 1px dashed var(--sklearn-color-line);\n",
       "  margin: 0 0.4em 0.5em 0.4em;\n",
       "  box-sizing: border-box;\n",
       "  padding-bottom: 0.4em;\n",
       "  background-color: var(--sklearn-color-background);\n",
       "}\n",
       "\n",
       "#sk-container-id-1 div.sk-container {\n",
       "  /* jupyter's `normalize.less` sets `[hidden] { display: none; }`\n",
       "     but bootstrap.min.css set `[hidden] { display: none !important; }`\n",
       "     so we also need the `!important` here to be able to override the\n",
       "     default hidden behavior on the sphinx rendered scikit-learn.org.\n",
       "     See: https://github.com/scikit-learn/scikit-learn/issues/21755 */\n",
       "  display: inline-block !important;\n",
       "  position: relative;\n",
       "}\n",
       "\n",
       "#sk-container-id-1 div.sk-text-repr-fallback {\n",
       "  display: none;\n",
       "}\n",
       "\n",
       "div.sk-parallel-item,\n",
       "div.sk-serial,\n",
       "div.sk-item {\n",
       "  /* draw centered vertical line to link estimators */\n",
       "  background-image: linear-gradient(var(--sklearn-color-text-on-default-background), var(--sklearn-color-text-on-default-background));\n",
       "  background-size: 2px 100%;\n",
       "  background-repeat: no-repeat;\n",
       "  background-position: center center;\n",
       "}\n",
       "\n",
       "/* Parallel-specific style estimator block */\n",
       "\n",
       "#sk-container-id-1 div.sk-parallel-item::after {\n",
       "  content: \"\";\n",
       "  width: 100%;\n",
       "  border-bottom: 2px solid var(--sklearn-color-text-on-default-background);\n",
       "  flex-grow: 1;\n",
       "}\n",
       "\n",
       "#sk-container-id-1 div.sk-parallel {\n",
       "  display: flex;\n",
       "  align-items: stretch;\n",
       "  justify-content: center;\n",
       "  background-color: var(--sklearn-color-background);\n",
       "  position: relative;\n",
       "}\n",
       "\n",
       "#sk-container-id-1 div.sk-parallel-item {\n",
       "  display: flex;\n",
       "  flex-direction: column;\n",
       "}\n",
       "\n",
       "#sk-container-id-1 div.sk-parallel-item:first-child::after {\n",
       "  align-self: flex-end;\n",
       "  width: 50%;\n",
       "}\n",
       "\n",
       "#sk-container-id-1 div.sk-parallel-item:last-child::after {\n",
       "  align-self: flex-start;\n",
       "  width: 50%;\n",
       "}\n",
       "\n",
       "#sk-container-id-1 div.sk-parallel-item:only-child::after {\n",
       "  width: 0;\n",
       "}\n",
       "\n",
       "/* Serial-specific style estimator block */\n",
       "\n",
       "#sk-container-id-1 div.sk-serial {\n",
       "  display: flex;\n",
       "  flex-direction: column;\n",
       "  align-items: center;\n",
       "  background-color: var(--sklearn-color-background);\n",
       "  padding-right: 1em;\n",
       "  padding-left: 1em;\n",
       "}\n",
       "\n",
       "\n",
       "/* Toggleable style: style used for estimator/Pipeline/ColumnTransformer box that is\n",
       "clickable and can be expanded/collapsed.\n",
       "- Pipeline and ColumnTransformer use this feature and define the default style\n",
       "- Estimators will overwrite some part of the style using the `sk-estimator` class\n",
       "*/\n",
       "\n",
       "/* Pipeline and ColumnTransformer style (default) */\n",
       "\n",
       "#sk-container-id-1 div.sk-toggleable {\n",
       "  /* Default theme specific background. It is overwritten whether we have a\n",
       "  specific estimator or a Pipeline/ColumnTransformer */\n",
       "  background-color: var(--sklearn-color-background);\n",
       "}\n",
       "\n",
       "/* Toggleable label */\n",
       "#sk-container-id-1 label.sk-toggleable__label {\n",
       "  cursor: pointer;\n",
       "  display: flex;\n",
       "  width: 100%;\n",
       "  margin-bottom: 0;\n",
       "  padding: 0.5em;\n",
       "  box-sizing: border-box;\n",
       "  text-align: center;\n",
       "  align-items: start;\n",
       "  justify-content: space-between;\n",
       "  gap: 0.5em;\n",
       "}\n",
       "\n",
       "#sk-container-id-1 label.sk-toggleable__label .caption {\n",
       "  font-size: 0.6rem;\n",
       "  font-weight: lighter;\n",
       "  color: var(--sklearn-color-text-muted);\n",
       "}\n",
       "\n",
       "#sk-container-id-1 label.sk-toggleable__label-arrow:before {\n",
       "  /* Arrow on the left of the label */\n",
       "  content: \"▸\";\n",
       "  float: left;\n",
       "  margin-right: 0.25em;\n",
       "  color: var(--sklearn-color-icon);\n",
       "}\n",
       "\n",
       "#sk-container-id-1 label.sk-toggleable__label-arrow:hover:before {\n",
       "  color: var(--sklearn-color-text);\n",
       "}\n",
       "\n",
       "/* Toggleable content - dropdown */\n",
       "\n",
       "#sk-container-id-1 div.sk-toggleable__content {\n",
       "  max-height: 0;\n",
       "  max-width: 0;\n",
       "  overflow: hidden;\n",
       "  text-align: left;\n",
       "  /* unfitted */\n",
       "  background-color: var(--sklearn-color-unfitted-level-0);\n",
       "}\n",
       "\n",
       "#sk-container-id-1 div.sk-toggleable__content.fitted {\n",
       "  /* fitted */\n",
       "  background-color: var(--sklearn-color-fitted-level-0);\n",
       "}\n",
       "\n",
       "#sk-container-id-1 div.sk-toggleable__content pre {\n",
       "  margin: 0.2em;\n",
       "  border-radius: 0.25em;\n",
       "  color: var(--sklearn-color-text);\n",
       "  /* unfitted */\n",
       "  background-color: var(--sklearn-color-unfitted-level-0);\n",
       "}\n",
       "\n",
       "#sk-container-id-1 div.sk-toggleable__content.fitted pre {\n",
       "  /* unfitted */\n",
       "  background-color: var(--sklearn-color-fitted-level-0);\n",
       "}\n",
       "\n",
       "#sk-container-id-1 input.sk-toggleable__control:checked~div.sk-toggleable__content {\n",
       "  /* Expand drop-down */\n",
       "  max-height: 200px;\n",
       "  max-width: 100%;\n",
       "  overflow: auto;\n",
       "}\n",
       "\n",
       "#sk-container-id-1 input.sk-toggleable__control:checked~label.sk-toggleable__label-arrow:before {\n",
       "  content: \"▾\";\n",
       "}\n",
       "\n",
       "/* Pipeline/ColumnTransformer-specific style */\n",
       "\n",
       "#sk-container-id-1 div.sk-label input.sk-toggleable__control:checked~label.sk-toggleable__label {\n",
       "  color: var(--sklearn-color-text);\n",
       "  background-color: var(--sklearn-color-unfitted-level-2);\n",
       "}\n",
       "\n",
       "#sk-container-id-1 div.sk-label.fitted input.sk-toggleable__control:checked~label.sk-toggleable__label {\n",
       "  background-color: var(--sklearn-color-fitted-level-2);\n",
       "}\n",
       "\n",
       "/* Estimator-specific style */\n",
       "\n",
       "/* Colorize estimator box */\n",
       "#sk-container-id-1 div.sk-estimator input.sk-toggleable__control:checked~label.sk-toggleable__label {\n",
       "  /* unfitted */\n",
       "  background-color: var(--sklearn-color-unfitted-level-2);\n",
       "}\n",
       "\n",
       "#sk-container-id-1 div.sk-estimator.fitted input.sk-toggleable__control:checked~label.sk-toggleable__label {\n",
       "  /* fitted */\n",
       "  background-color: var(--sklearn-color-fitted-level-2);\n",
       "}\n",
       "\n",
       "#sk-container-id-1 div.sk-label label.sk-toggleable__label,\n",
       "#sk-container-id-1 div.sk-label label {\n",
       "  /* The background is the default theme color */\n",
       "  color: var(--sklearn-color-text-on-default-background);\n",
       "}\n",
       "\n",
       "/* On hover, darken the color of the background */\n",
       "#sk-container-id-1 div.sk-label:hover label.sk-toggleable__label {\n",
       "  color: var(--sklearn-color-text);\n",
       "  background-color: var(--sklearn-color-unfitted-level-2);\n",
       "}\n",
       "\n",
       "/* Label box, darken color on hover, fitted */\n",
       "#sk-container-id-1 div.sk-label.fitted:hover label.sk-toggleable__label.fitted {\n",
       "  color: var(--sklearn-color-text);\n",
       "  background-color: var(--sklearn-color-fitted-level-2);\n",
       "}\n",
       "\n",
       "/* Estimator label */\n",
       "\n",
       "#sk-container-id-1 div.sk-label label {\n",
       "  font-family: monospace;\n",
       "  font-weight: bold;\n",
       "  display: inline-block;\n",
       "  line-height: 1.2em;\n",
       "}\n",
       "\n",
       "#sk-container-id-1 div.sk-label-container {\n",
       "  text-align: center;\n",
       "}\n",
       "\n",
       "/* Estimator-specific */\n",
       "#sk-container-id-1 div.sk-estimator {\n",
       "  font-family: monospace;\n",
       "  border: 1px dotted var(--sklearn-color-border-box);\n",
       "  border-radius: 0.25em;\n",
       "  box-sizing: border-box;\n",
       "  margin-bottom: 0.5em;\n",
       "  /* unfitted */\n",
       "  background-color: var(--sklearn-color-unfitted-level-0);\n",
       "}\n",
       "\n",
       "#sk-container-id-1 div.sk-estimator.fitted {\n",
       "  /* fitted */\n",
       "  background-color: var(--sklearn-color-fitted-level-0);\n",
       "}\n",
       "\n",
       "/* on hover */\n",
       "#sk-container-id-1 div.sk-estimator:hover {\n",
       "  /* unfitted */\n",
       "  background-color: var(--sklearn-color-unfitted-level-2);\n",
       "}\n",
       "\n",
       "#sk-container-id-1 div.sk-estimator.fitted:hover {\n",
       "  /* fitted */\n",
       "  background-color: var(--sklearn-color-fitted-level-2);\n",
       "}\n",
       "\n",
       "/* Specification for estimator info (e.g. \"i\" and \"?\") */\n",
       "\n",
       "/* Common style for \"i\" and \"?\" */\n",
       "\n",
       ".sk-estimator-doc-link,\n",
       "a:link.sk-estimator-doc-link,\n",
       "a:visited.sk-estimator-doc-link {\n",
       "  float: right;\n",
       "  font-size: smaller;\n",
       "  line-height: 1em;\n",
       "  font-family: monospace;\n",
       "  background-color: var(--sklearn-color-background);\n",
       "  border-radius: 1em;\n",
       "  height: 1em;\n",
       "  width: 1em;\n",
       "  text-decoration: none !important;\n",
       "  margin-left: 0.5em;\n",
       "  text-align: center;\n",
       "  /* unfitted */\n",
       "  border: var(--sklearn-color-unfitted-level-1) 1pt solid;\n",
       "  color: var(--sklearn-color-unfitted-level-1);\n",
       "}\n",
       "\n",
       ".sk-estimator-doc-link.fitted,\n",
       "a:link.sk-estimator-doc-link.fitted,\n",
       "a:visited.sk-estimator-doc-link.fitted {\n",
       "  /* fitted */\n",
       "  border: var(--sklearn-color-fitted-level-1) 1pt solid;\n",
       "  color: var(--sklearn-color-fitted-level-1);\n",
       "}\n",
       "\n",
       "/* On hover */\n",
       "div.sk-estimator:hover .sk-estimator-doc-link:hover,\n",
       ".sk-estimator-doc-link:hover,\n",
       "div.sk-label-container:hover .sk-estimator-doc-link:hover,\n",
       ".sk-estimator-doc-link:hover {\n",
       "  /* unfitted */\n",
       "  background-color: var(--sklearn-color-unfitted-level-3);\n",
       "  color: var(--sklearn-color-background);\n",
       "  text-decoration: none;\n",
       "}\n",
       "\n",
       "div.sk-estimator.fitted:hover .sk-estimator-doc-link.fitted:hover,\n",
       ".sk-estimator-doc-link.fitted:hover,\n",
       "div.sk-label-container:hover .sk-estimator-doc-link.fitted:hover,\n",
       ".sk-estimator-doc-link.fitted:hover {\n",
       "  /* fitted */\n",
       "  background-color: var(--sklearn-color-fitted-level-3);\n",
       "  color: var(--sklearn-color-background);\n",
       "  text-decoration: none;\n",
       "}\n",
       "\n",
       "/* Span, style for the box shown on hovering the info icon */\n",
       ".sk-estimator-doc-link span {\n",
       "  display: none;\n",
       "  z-index: 9999;\n",
       "  position: relative;\n",
       "  font-weight: normal;\n",
       "  right: .2ex;\n",
       "  padding: .5ex;\n",
       "  margin: .5ex;\n",
       "  width: min-content;\n",
       "  min-width: 20ex;\n",
       "  max-width: 50ex;\n",
       "  color: var(--sklearn-color-text);\n",
       "  box-shadow: 2pt 2pt 4pt #999;\n",
       "  /* unfitted */\n",
       "  background: var(--sklearn-color-unfitted-level-0);\n",
       "  border: .5pt solid var(--sklearn-color-unfitted-level-3);\n",
       "}\n",
       "\n",
       ".sk-estimator-doc-link.fitted span {\n",
       "  /* fitted */\n",
       "  background: var(--sklearn-color-fitted-level-0);\n",
       "  border: var(--sklearn-color-fitted-level-3);\n",
       "}\n",
       "\n",
       ".sk-estimator-doc-link:hover span {\n",
       "  display: block;\n",
       "}\n",
       "\n",
       "/* \"?\"-specific style due to the `<a>` HTML tag */\n",
       "\n",
       "#sk-container-id-1 a.estimator_doc_link {\n",
       "  float: right;\n",
       "  font-size: 1rem;\n",
       "  line-height: 1em;\n",
       "  font-family: monospace;\n",
       "  background-color: var(--sklearn-color-background);\n",
       "  border-radius: 1rem;\n",
       "  height: 1rem;\n",
       "  width: 1rem;\n",
       "  text-decoration: none;\n",
       "  /* unfitted */\n",
       "  color: var(--sklearn-color-unfitted-level-1);\n",
       "  border: var(--sklearn-color-unfitted-level-1) 1pt solid;\n",
       "}\n",
       "\n",
       "#sk-container-id-1 a.estimator_doc_link.fitted {\n",
       "  /* fitted */\n",
       "  border: var(--sklearn-color-fitted-level-1) 1pt solid;\n",
       "  color: var(--sklearn-color-fitted-level-1);\n",
       "}\n",
       "\n",
       "/* On hover */\n",
       "#sk-container-id-1 a.estimator_doc_link:hover {\n",
       "  /* unfitted */\n",
       "  background-color: var(--sklearn-color-unfitted-level-3);\n",
       "  color: var(--sklearn-color-background);\n",
       "  text-decoration: none;\n",
       "}\n",
       "\n",
       "#sk-container-id-1 a.estimator_doc_link.fitted:hover {\n",
       "  /* fitted */\n",
       "  background-color: var(--sklearn-color-fitted-level-3);\n",
       "}\n",
       "</style><div id=\"sk-container-id-1\" class=\"sk-top-container\"><div class=\"sk-text-repr-fallback\"><pre>RandomForestClassifier(random_state=42)</pre><b>In a Jupyter environment, please rerun this cell to show the HTML representation or trust the notebook. <br />On GitHub, the HTML representation is unable to render, please try loading this page with nbviewer.org.</b></div><div class=\"sk-container\" hidden><div class=\"sk-item\"><div class=\"sk-estimator fitted sk-toggleable\"><input class=\"sk-toggleable__control sk-hidden--visually\" id=\"sk-estimator-id-1\" type=\"checkbox\" checked><label for=\"sk-estimator-id-1\" class=\"sk-toggleable__label fitted sk-toggleable__label-arrow\"><div><div>RandomForestClassifier</div></div><div><a class=\"sk-estimator-doc-link fitted\" rel=\"noreferrer\" target=\"_blank\" href=\"https://scikit-learn.org/1.6/modules/generated/sklearn.ensemble.RandomForestClassifier.html\">?<span>Documentation for RandomForestClassifier</span></a><span class=\"sk-estimator-doc-link fitted\">i<span>Fitted</span></span></div></label><div class=\"sk-toggleable__content fitted\"><pre>RandomForestClassifier(random_state=42)</pre></div> </div></div></div></div>"
      ],
      "text/plain": [
       "RandomForestClassifier(random_state=42)"
      ]
     },
     "execution_count": 31,
     "metadata": {},
     "output_type": "execute_result"
    }
   ],
   "source": [
    "rf.fit(X_train, y_train)"
   ]
  },
  {
   "cell_type": "code",
   "execution_count": 32,
   "metadata": {
    "executionInfo": {
     "elapsed": 34,
     "status": "ok",
     "timestamp": 1738130246317,
     "user": {
      "displayName": "CHANDRA RENOVAL SAPUTRA",
      "userId": "03865787093941392451"
     },
     "user_tz": -420
    },
    "id": "Cssp1hfeiCu1"
   },
   "outputs": [],
   "source": [
    "y_pred = rf.predict(X_test)"
   ]
  },
  {
   "cell_type": "markdown",
   "metadata": {
    "id": "wHfl8ujsitwA"
   },
   "source": [
    "## akurasi model"
   ]
  },
  {
   "cell_type": "code",
   "execution_count": 33,
   "metadata": {
    "colab": {
     "base_uri": "https://localhost:8080/"
    },
    "executionInfo": {
     "elapsed": 33,
     "status": "ok",
     "timestamp": 1738130246317,
     "user": {
      "displayName": "CHANDRA RENOVAL SAPUTRA",
      "userId": "03865787093941392451"
     },
     "user_tz": -420
    },
    "id": "6m5MO49UiXaZ",
    "outputId": "76d94643-2be5-4567-d55a-80108239ed83"
   },
   "outputs": [
    {
     "name": "stdout",
     "output_type": "stream",
     "text": [
      "Akurasi: 0.9545454545454546\n"
     ]
    }
   ],
   "source": [
    "print(f'Akurasi: {accuracy_score(y_test, y_pred)}')"
   ]
  },
  {
   "cell_type": "markdown",
   "metadata": {
    "id": "_dim62geiZD0"
   },
   "source": [
    "## classification report"
   ]
  },
  {
   "cell_type": "code",
   "execution_count": 34,
   "metadata": {
    "colab": {
     "base_uri": "https://localhost:8080/"
    },
    "executionInfo": {
     "elapsed": 22,
     "status": "ok",
     "timestamp": 1738130246318,
     "user": {
      "displayName": "CHANDRA RENOVAL SAPUTRA",
      "userId": "03865787093941392451"
     },
     "user_tz": -420
    },
    "id": "HWX8zqiHix5C",
    "outputId": "a80fa198-1b17-41de-9b23-5344b1841821"
   },
   "outputs": [
    {
     "name": "stdout",
     "output_type": "stream",
     "text": [
      "              precision    recall  f1-score   support\n",
      "\n",
      "           1       1.00      1.00      1.00        11\n",
      "           2       0.00      0.00      0.00         2\n",
      "           3       0.94      1.00      0.97        31\n",
      "\n",
      "    accuracy                           0.95        44\n",
      "   macro avg       0.65      0.67      0.66        44\n",
      "weighted avg       0.91      0.95      0.93        44\n",
      "\n"
     ]
    },
    {
     "name": "stderr",
     "output_type": "stream",
     "text": [
      "c:\\Users\\DELL\\OneDrive\\Documents\\chandra\\Projects\\HealthcareInfantClassificationTasikmalaya\\venv\\Lib\\site-packages\\sklearn\\metrics\\_classification.py:1565: UndefinedMetricWarning: Precision is ill-defined and being set to 0.0 in labels with no predicted samples. Use `zero_division` parameter to control this behavior.\n",
      "  _warn_prf(average, modifier, f\"{metric.capitalize()} is\", len(result))\n",
      "c:\\Users\\DELL\\OneDrive\\Documents\\chandra\\Projects\\HealthcareInfantClassificationTasikmalaya\\venv\\Lib\\site-packages\\sklearn\\metrics\\_classification.py:1565: UndefinedMetricWarning: Precision is ill-defined and being set to 0.0 in labels with no predicted samples. Use `zero_division` parameter to control this behavior.\n",
      "  _warn_prf(average, modifier, f\"{metric.capitalize()} is\", len(result))\n",
      "c:\\Users\\DELL\\OneDrive\\Documents\\chandra\\Projects\\HealthcareInfantClassificationTasikmalaya\\venv\\Lib\\site-packages\\sklearn\\metrics\\_classification.py:1565: UndefinedMetricWarning: Precision is ill-defined and being set to 0.0 in labels with no predicted samples. Use `zero_division` parameter to control this behavior.\n",
      "  _warn_prf(average, modifier, f\"{metric.capitalize()} is\", len(result))\n"
     ]
    }
   ],
   "source": [
    "print(classification_report(y_test, y_pred))"
   ]
  },
  {
   "cell_type": "markdown",
   "metadata": {
    "id": "WUO0j2m4kT9T"
   },
   "source": [
    "## Cross Validation"
   ]
  },
  {
   "cell_type": "code",
   "execution_count": 35,
   "metadata": {
    "colab": {
     "base_uri": "https://localhost:8080/"
    },
    "executionInfo": {
     "elapsed": 1496,
     "status": "ok",
     "timestamp": 1738130247798,
     "user": {
      "displayName": "CHANDRA RENOVAL SAPUTRA",
      "userId": "03865787093941392451"
     },
     "user_tz": -420
    },
    "id": "H814xNw9jJyQ",
    "outputId": "0ad9e966-2eb8-4ba8-d400-109e7d3104d6"
   },
   "outputs": [
    {
     "name": "stdout",
     "output_type": "stream",
     "text": [
      "Akurasi: 0.9219873150105707\n"
     ]
    }
   ],
   "source": [
    "k = 5\n",
    "cv_scores = cross_val_score(rf, x, y, cv=k, scoring='accuracy').mean()\n",
    "print(f'Akurasi: {cv_scores}')"
   ]
  },
  {
   "cell_type": "markdown",
   "metadata": {},
   "source": [
    "## Kesimpulan\n",
    "Dari analisis data yang telah dilakukan, tidak ditemukan adanya \n",
    "ketidakmerataan kelayakan pelayanan kesehatan bayi di kota Tasikmalaya\n",
    "karena mayoritas pelayanan kesehatan bayi yang ada pada setiap puskesmas \n",
    "layak bagi masyarakat, dengan menggunakan model Random Forest ini \n",
    "menghasilkan akurasi 72% untuk analisis klasifikasi pelayanan kesehatan \n",
    "bayi\n",
    "\n",
    "## Saran\n",
    "Dengan penemuan bahwa adanya satu kecamatan yang memiliki satu \n",
    "puskesmas saja hal ini perlu adanya analisis lebih lanjut di kecamatan tersebut \n",
    "dan perlu adanya tindakan untuk memastikan pelayanan disetiap kecamatan \n",
    "tidak ada yang “tidak layak” untuk meningkatkan fasilitas pelayanan \n",
    "kesehatan bayi di kota Tasikmalaya"
   ]
  }
 ],
 "metadata": {
  "colab": {
   "authorship_tag": "ABX9TyMEDO0bu+kceJK9vwgZalMC",
   "mount_file_id": "1kaSVZW4zmOafY-hjwW5oGp0Gw00Rzn7B",
   "provenance": []
  },
  "kernelspec": {
   "display_name": "venv",
   "language": "python",
   "name": "python3"
  },
  "language_info": {
   "codemirror_mode": {
    "name": "ipython",
    "version": 3
   },
   "file_extension": ".py",
   "mimetype": "text/x-python",
   "name": "python",
   "nbconvert_exporter": "python",
   "pygments_lexer": "ipython3",
   "version": "3.13.1"
  }
 },
 "nbformat": 4,
 "nbformat_minor": 0
}
